{
  "nbformat": 4,
  "nbformat_minor": 0,
  "metadata": {
    "colab": {
      "name": "İlkphytondersim.ipynb",
      "provenance": [],
      "collapsed_sections": [],
      "authorship_tag": "ABX9TyMigiECvDI6ivxxFrVg1ncS",
      "include_colab_link": true
    },
    "kernelspec": {
      "name": "python3",
      "display_name": "Python 3"
    },
    "language_info": {
      "name": "python"
    }
  },
  "cells": [
    {
      "cell_type": "markdown",
      "metadata": {
        "id": "view-in-github",
        "colab_type": "text"
      },
      "source": [
        "<a href=\"https://colab.research.google.com/github/metindrk/metindrk/blob/main/%C4%B0lkphytondersim.ipynb\" target=\"_parent\"><img src=\"https://colab.research.google.com/assets/colab-badge.svg\" alt=\"Open In Colab\"/></a>"
      ]
    },
    {
      "cell_type": "code",
      "metadata": {
        "colab": {
          "base_uri": "https://localhost:8080/"
        },
        "id": "cxGL8N544Ou3",
        "outputId": "d15a08e5-3ac5-4658-8a41-c3e7509cd840"
      },
      "source": [
        "print('Hello World!')"
      ],
      "execution_count": null,
      "outputs": [
        {
          "output_type": "stream",
          "name": "stdout",
          "text": [
            "Hello World!\n"
          ]
        }
      ]
    },
    {
      "cell_type": "markdown",
      "metadata": {
        "id": "sTMQ728PnMKg"
      },
      "source": [
        "# Yeni Bölüm"
      ]
    },
    {
      "cell_type": "markdown",
      "metadata": {
        "id": "wlR0djweIUI1"
      },
      "source": [
        "# Yeni Bölüm"
      ]
    },
    {
      "cell_type": "code",
      "metadata": {
        "id": "sC_DsjgA6KUO",
        "colab": {
          "base_uri": "https://localhost:8080/"
        },
        "outputId": "65bd70ca-d426-46ce-d213-2dd89fe8a3de"
      },
      "source": [
        "number = 5+3j\n",
        "print(number)"
      ],
      "execution_count": null,
      "outputs": [
        {
          "output_type": "stream",
          "name": "stdout",
          "text": [
            "(5+3j)\n"
          ]
        }
      ]
    },
    {
      "cell_type": "code",
      "metadata": {
        "id": "gHikKINV--a2"
      },
      "source": [
        "username = input(\"Please enter your name\")\n",
        "print(username)\n",
        "print(type(username))"
      ],
      "execution_count": null,
      "outputs": []
    },
    {
      "cell_type": "code",
      "metadata": {
        "id": "at8Fawg2Uvhl",
        "colab": {
          "base_uri": "https://localhost:8080/"
        },
        "outputId": "4af494dc-1a9a-44a8-b183-414bd8de33ed"
      },
      "source": [
        "username = input(\"Please enter your name : \").title()\n",
        "age = int(input(\"Please enter your age  : \"))\n",
        "print(username); print(age); print(type(age))"
      ],
      "execution_count": 32,
      "outputs": [
        {
          "output_type": "stream",
          "name": "stdout",
          "text": [
            "Please enter your name : mtn\n",
            "Please enter your age  : 51\n",
            "Mtn\n",
            "51\n",
            "<class 'int'>\n"
          ]
        }
      ]
    },
    {
      "cell_type": "code",
      "metadata": {
        "id": "xdmkfyOWUv5n",
        "colab": {
          "base_uri": "https://localhost:8080/"
        },
        "outputId": "785891f8-31fd-4b5a-9388-8f853a89d3a9"
      },
      "source": [
        "type(\"username\")\n",
        "type(\"age\")"
      ],
      "execution_count": 20,
      "outputs": [
        {
          "output_type": "execute_result",
          "data": {
            "text/plain": [
              "str"
            ]
          },
          "metadata": {},
          "execution_count": 20
        }
      ]
    },
    {
      "cell_type": "markdown",
      "metadata": {
        "id": "LZGWX_vbi723"
      },
      "source": [
        "age = int(input(\"Please enter your age: \"))\n",
        "print(age)\n",
        "print(type(age))\n",
        "\n"
      ]
    },
    {
      "cell_type": "code",
      "metadata": {
        "id": "NGeiZvRj-G9W",
        "colab": {
          "base_uri": "https://localhost:8080/"
        },
        "outputId": "36d62d4c-fd25-4e53-b413-f6b483de6328"
      },
      "source": [
        "print('I', end=' ')\n",
        "print('will say', end=' ')\n",
        "print(\"'I missed you'\", end=' ')\n",
        "print('to my mother') "
      ],
      "execution_count": 34,
      "outputs": [
        {
          "output_type": "stream",
          "name": "stdout",
          "text": [
            "I will say 'I missed you' to my mother\n"
          ]
        }
      ]
    },
    {
      "cell_type": "code",
      "metadata": {
        "id": "RAcG_OUn0uxO"
      },
      "source": [
        "print('smoking', 'is', 'slowly', 'killing me', sep=' * ')"
      ],
      "execution_count": null,
      "outputs": []
    },
    {
      "cell_type": "code",
      "metadata": {
        "id": "ux6pBbOQ0uz4",
        "colab": {
          "base_uri": "https://localhost:8080/"
        },
        "outputId": "eefd92e8-752a-4265-dc12-21af28e8c482"
      },
      "source": [
        "x = 5\n",
        "print ('value of x       : ', x)\n",
        "x += 2\n",
        "print (\"2 more of x      : \", x, \"\\n\") # using string expression '\\n', \n",
        "                                       # we produce extra line. \n",
        "                                       # So that we had empty line.\n",
        "y = 10\n",
        "print ('value of y       : ', y)\n",
        "y -= 2\n",
        "print (\"2 minus y        : \", y, \"\\n\")\n",
        "z = 6\n",
        "print ('value of z       : ', z)\n",
        "z *= 2\n",
        "print (\"2 times z        : \", z, \"\\n\")"
      ],
      "execution_count": 35,
      "outputs": [
        {
          "output_type": "stream",
          "name": "stdout",
          "text": [
            "value of x       :  5\n",
            "2 more of x      :  7 \n",
            "\n",
            "value of y       :  10\n",
            "2 minus y        :  8 \n",
            "\n",
            "value of z       :  6\n",
            "2 times z        :  12 \n",
            "\n"
          ]
        }
      ]
    },
    {
      "cell_type": "code",
      "metadata": {
        "id": "vtdSe7C8KmpV",
        "colab": {
          "base_uri": "https://localhost:8080/"
        },
        "outputId": "a9988e54-22ee-4a7c-9b65-36070550b901"
      },
      "source": [
        "print('C:\\\\november\\number_expenditure.txt')"
      ],
      "execution_count": 36,
      "outputs": [
        {
          "output_type": "stream",
          "name": "stdout",
          "text": [
            "C:\\november\n",
            "umber_expenditure.txt\n"
          ]
        }
      ]
    },
    {
      "cell_type": "code",
      "metadata": {
        "id": "NSw2C4_CTcG_",
        "colab": {
          "base_uri": "https://localhost:8080/"
        },
        "outputId": "d328e495-f7d5-412f-b035-d2cb5c519094"
      },
      "source": [
        "bool(None), bool(\"0\"), bool(\"\"), bool([]), bool({}), bool(0), bool(0.0j)"
      ],
      "execution_count": 38,
      "outputs": [
        {
          "output_type": "execute_result",
          "data": {
            "text/plain": [
              "(False, True, False, False, False, False, False)"
            ]
          },
          "metadata": {},
          "execution_count": 38
        }
      ]
    },
    {
      "cell_type": "code",
      "metadata": {
        "id": "CILuoh5vVFI-",
        "colab": {
          "base_uri": "https://localhost:8080/"
        },
        "outputId": "63b56d31-8aa3-4dda-c33e-f2b4449be95f"
      },
      "source": [
        "bool(0), bool(1)"
      ],
      "execution_count": 40,
      "outputs": [
        {
          "output_type": "execute_result",
          "data": {
            "text/plain": [
              "(False, True)"
            ]
          },
          "metadata": {},
          "execution_count": 40
        }
      ]
    },
    {
      "cell_type": "code",
      "metadata": {
        "id": "RuwmvV9VTcK9"
      },
      "source": [
        "-Kadayıf\n",
        "-İç\n",
        "   -ceviz\n",
        "   -fındık\n",
        "   -fıstık\n",
        "-Şerbet\n",
        "  -su\n",
        "  -şeker\n",
        "-yumurta"
      ],
      "execution_count": null,
      "outputs": []
    },
    {
      "cell_type": "code",
      "metadata": {
        "id": "OWefE0MaewUk"
      },
      "source": [
        "kadayıf = True\n",
        "# iç\n",
        "fındık = False\n",
        "fıstık = True\n",
        "ceviz = False\n",
        "\n",
        "# şerbet\n",
        "su = True\n",
        "şeker = True\n",
        "\n",
        "yumurta = True\n",
        "\n",
        "# içecek\n",
        "çay = True\n",
        "meşrubat = True\n",
        "limonata = True\n",
        "\n",
        "yedim = kadayıf and (fındık or fıstık or ceviz) and (su and şeker) and yumurta and (çay or meşrubat or limonata)\n",
        "print(yedim)"
      ],
      "execution_count": null,
      "outputs": []
    },
    {
      "cell_type": "code",
      "metadata": {
        "id": "yUxVWeKQewXk"
      },
      "source": [
        "string = \"*8, 89, pty, wer,\""
      ],
      "execution_count": 42,
      "outputs": []
    },
    {
      "cell_type": "code",
      "metadata": {
        "id": "M_L3AzOxewac"
      },
      "source": [
        "print(\"clarusway\"[5])"
      ],
      "execution_count": null,
      "outputs": []
    },
    {
      "cell_type": "code",
      "metadata": {
        "id": "laYRosUPewdk"
      },
      "source": [
        "okul = \"clarusway\"\n",
        "print(okul)"
      ],
      "execution_count": null,
      "outputs": []
    },
    {
      "cell_type": "code",
      "metadata": {
        "id": "BEcb3y4NewgA"
      },
      "source": [
        "print(okul)"
      ],
      "execution_count": null,
      "outputs": []
    },
    {
      "cell_type": "code",
      "metadata": {
        "id": "e50QP4GQewmF"
      },
      "source": [
        "okul[:]"
      ],
      "execution_count": null,
      "outputs": []
    },
    {
      "cell_type": "code",
      "metadata": {
        "id": "chNrp0Dqewo_",
        "colab": {
          "base_uri": "https://localhost:8080/"
        },
        "outputId": "73879f61-881a-4267-fb7b-31464fdbd44b"
      },
      "source": [
        "mal = \"orange\"\n",
        "print(\"mal sayısı:\", mal[-5:-2])"
      ],
      "execution_count": 44,
      "outputs": [
        {
          "output_type": "stream",
          "name": "stdout",
          "text": [
            "mal sayısı: ran\n"
          ]
        }
      ]
    },
    {
      "cell_type": "code",
      "metadata": {
        "id": "Yf-jyUTuTcPY",
        "colab": {
          "base_uri": "https://localhost:8080/",
          "height": 35
        },
        "outputId": "6109d88d-0aa9-48fd-ac21-2ddb9fb2ff1f"
      },
      "source": [
        "mal[-6:4]"
      ],
      "execution_count": 45,
      "outputs": [
        {
          "output_type": "execute_result",
          "data": {
            "application/vnd.google.colaboratory.intrinsic+json": {
              "type": "string"
            },
            "text/plain": [
              "'oran'"
            ]
          },
          "metadata": {},
          "execution_count": 45
        }
      ]
    },
    {
      "cell_type": "code",
      "metadata": {
        "id": "ma9uwevtTcSr",
        "colab": {
          "base_uri": "https://localhost:8080/"
        },
        "outputId": "eb95ab02-8d4b-4d63-dd2b-3cfa6714c77a"
      },
      "source": [
        "len(\"hjkdnn545\")"
      ],
      "execution_count": 46,
      "outputs": [
        {
          "output_type": "execute_result",
          "data": {
            "text/plain": [
              "9"
            ]
          },
          "metadata": {},
          "execution_count": 46
        }
      ]
    },
    {
      "cell_type": "code",
      "metadata": {
        "id": "elfdD4WITcVo",
        "colab": {
          "base_uri": "https://localhost:8080/"
        },
        "outputId": "ca305b98-f20c-4119-dbab-27d822e22ad0"
      },
      "source": [
        "isim = \"clarusway okulu\"\n",
        "print(isim[3:7], end=\" - \"); print(isim[:9])"
      ],
      "execution_count": 57,
      "outputs": [
        {
          "output_type": "stream",
          "name": "stdout",
          "text": [
            "rusw - clarusway\n"
          ]
        }
      ]
    },
    {
      "cell_type": "code",
      "metadata": {
        "id": "fU3YajyM2OOE"
      },
      "source": [
        "isim[::2]"
      ],
      "execution_count": null,
      "outputs": []
    },
    {
      "cell_type": "code",
      "metadata": {
        "id": "K0UDyRAK2OSO"
      },
      "source": [
        "isim[:]"
      ],
      "execution_count": null,
      "outputs": []
    },
    {
      "cell_type": "code",
      "metadata": {
        "id": "PvMbbit12OV2"
      },
      "source": [
        "print(isim[::-1])"
      ],
      "execution_count": null,
      "outputs": []
    },
    {
      "cell_type": "code",
      "metadata": {
        "id": "_LmFYaZs2duQ",
        "colab": {
          "base_uri": "https://localhost:8080/",
          "height": 35
        },
        "outputId": "9d36be9e-0b0f-40f3-8671-d30843238666"
      },
      "source": [
        "isim[-12:10]"
      ],
      "execution_count": 58,
      "outputs": [
        {
          "output_type": "execute_result",
          "data": {
            "application/vnd.google.colaboratory.intrinsic+json": {
              "type": "string"
            },
            "text/plain": [
              "'rusway '"
            ]
          },
          "metadata": {},
          "execution_count": 58
        }
      ]
    },
    {
      "cell_type": "code",
      "metadata": {
        "id": "8w-S1D1H2dxT",
        "colab": {
          "base_uri": "https://localhost:8080/",
          "height": 35
        },
        "outputId": "eb9a3626-c850-480f-fdbf-94e4da32c57d"
      },
      "source": [
        "isim[-12:2:-3]"
      ],
      "execution_count": 63,
      "outputs": [
        {
          "output_type": "execute_result",
          "data": {
            "application/vnd.google.colaboratory.intrinsic+json": {
              "type": "string"
            },
            "text/plain": [
              "'r'"
            ]
          },
          "metadata": {},
          "execution_count": 63
        }
      ]
    },
    {
      "cell_type": "code",
      "metadata": {
        "id": "5qqSXe742d1R",
        "colab": {
          "base_uri": "https://localhost:8080/",
          "height": 35
        },
        "outputId": "48058148-a27b-4aed-adf8-6010bd3e1b29"
      },
      "source": [
        "isim[-5:-12:-2]"
      ],
      "execution_count": 60,
      "outputs": [
        {
          "output_type": "execute_result",
          "data": {
            "application/vnd.google.colaboratory.intrinsic+json": {
              "type": "string"
            },
            "text/plain": [
              "'oywu'"
            ]
          },
          "metadata": {},
          "execution_count": 60
        }
      ]
    },
    {
      "cell_type": "code",
      "metadata": {
        "id": "AObTWQ662d3k",
        "colab": {
          "base_uri": "https://localhost:8080/"
        },
        "outputId": "2e1c1133-f648-4b52-d2b1-4b873aafb6ee"
      },
      "source": [
        "# a = {0} or and b = [] c = False d = (a and b) \n",
        "# print(c or d) \n",
        "\n",
        "print({0} and False or [], end=\",\")\n",
        "print({0} and False or [])"
      ],
      "execution_count": 64,
      "outputs": [
        {
          "output_type": "stream",
          "name": "stdout",
          "text": [
            "[],[]\n"
          ]
        }
      ]
    },
    {
      "cell_type": "code",
      "metadata": {
        "id": "829-eFvN2d6S",
        "colab": {
          "base_uri": "https://localhost:8080/"
        },
        "outputId": "ae45637c-c007-4ae0-ca10-3e63422a0ed2"
      },
      "source": [
        "text1 = 'it'\n",
        "text2 = 'easy'\n",
        "print(text1 + '\\'s very '  + text2)\n"
      ],
      "execution_count": 65,
      "outputs": [
        {
          "output_type": "stream",
          "name": "stdout",
          "text": [
            "it's very easy\n"
          ]
        }
      ]
    },
    {
      "cell_type": "code",
      "metadata": {
        "id": "xjt194QK2d9E"
      },
      "source": [
        "print(True and False, end=\" \")\n",
        "print(True and True)\n",
        "print(False or False, end=\" \")\n",
        "print(False or True and True)"
      ],
      "execution_count": null,
      "outputs": []
    },
    {
      "cell_type": "code",
      "metadata": {
        "id": "APPq3h0y2d_3"
      },
      "source": [
        "print([] and True or {0} or not False)"
      ],
      "execution_count": null,
      "outputs": []
    },
    {
      "cell_type": "code",
      "metadata": {
        "id": "E6BT5y_6R2T6"
      },
      "source": [
        "logic = True and False or not False or False\n",
        "print(logic)"
      ],
      "execution_count": null,
      "outputs": []
    },
    {
      "cell_type": "code",
      "metadata": {
        "id": "1opAbL8qR2YX"
      },
      "source": [
        "x = True or not True\n",
        "y = True and not True\n",
        "print(x, y,45, sep = \"***\")"
      ],
      "execution_count": null,
      "outputs": []
    },
    {
      "cell_type": "code",
      "metadata": {
        "id": "fUaZHr7ENEUc"
      },
      "source": [
        "Logic = True and False or {}\n",
        "print(Logic)"
      ],
      "execution_count": null,
      "outputs": []
    },
    {
      "cell_type": "code",
      "metadata": {
        "id": "iaoaCup-PA3W",
        "colab": {
          "base_uri": "https://localhost:8080/"
        },
        "outputId": "12dbe16d-d592-4dd8-9ecb-b3d2604c91bc"
      },
      "source": [
        "x = input (\"x\")\n",
        "y = input (\"y\")\n",
        "print(\"{}, {}\".format(x,y))\n",
        "\n",
        "x,y = y,x\n",
        "print(\"x =\",x,\"y =\",y)\n"
      ],
      "execution_count": 68,
      "outputs": [
        {
          "output_type": "stream",
          "name": "stdout",
          "text": [
            "x8\n",
            "y7\n",
            "8, 7\n",
            "x = 7 y = 8\n"
          ]
        }
      ]
    },
    {
      "cell_type": "code",
      "metadata": {
        "id": "qtIL31Rq2-w5"
      },
      "source": [
        "print(\"{9} {7} {1} {10} {3} {2} {5} {8} {6} {0} {4}\".format('in','know','bring','to','students.','out','best','teachers','the','Good','how'))"
      ],
      "execution_count": null,
      "outputs": []
    },
    {
      "cell_type": "code",
      "metadata": {
        "id": "NhpBAdTa2-1v"
      },
      "source": [
        "c = \"mtndrk\"\n",
        "print(c[::-1])"
      ],
      "execution_count": null,
      "outputs": []
    },
    {
      "cell_type": "code",
      "metadata": {
        "id": "870LAG0hR2b5"
      },
      "source": [
        "c = \"claruswayschool\"\n",
        "print(c[1:9:2])"
      ],
      "execution_count": null,
      "outputs": []
    },
    {
      "cell_type": "code",
      "metadata": {
        "id": "UQVZEMO8Xu6Z"
      },
      "source": [
        "fruit = \"portakal\"\n",
        "print(fruit[1:8:2])"
      ],
      "execution_count": null,
      "outputs": []
    },
    {
      "cell_type": "code",
      "metadata": {
        "id": "8lFYW-QUXu9y"
      },
      "source": [
        "import·numpy·as·np\n",
        "from·matplotlib·import·pyplot·as·plt\n",
        "ys = 200 + np.random.randn(100)\n",
        "x = [x for x in range(len(ys))]\n",
        "\n",
        "plt.plot(x, ys, '-')\n",
        "plt.fill_between(x, ys, 195, where=(ys > 195), facecolor='g', alpha=0.6)\n",
        "\n",
        "plt.title(\"Sample Visualization\")\n",
        "plt.show()"
      ],
      "execution_count": null,
      "outputs": []
    },
    {
      "cell_type": "code",
      "metadata": {
        "id": "Gb1ZBnYLXvAx"
      },
      "source": [
        "fruit = 'Orange'\n",
        "vegetable = 'Tomato'\n",
        "print(\"using + :\", fruit + vegetable)\n",
        "print(\"using * :\", 3 * fruit)"
      ],
      "execution_count": null,
      "outputs": []
    },
    {
      "cell_type": "code",
      "metadata": {
        "id": "t8nblZ-HXvDh",
        "colab": {
          "base_uri": "https://localhost:8080/"
        },
        "outputId": "0c5fb033-f413-432d-9985-9ad6634adee1"
      },
      "source": [
        "fruit = 'orange'\n",
        "fruit += ' apple (unutma 3 kg alacaksın)'\n",
        "print(fruit)"
      ],
      "execution_count": 69,
      "outputs": [
        {
          "output_type": "stream",
          "name": "stdout",
          "text": [
            "orange apple (unutma 3 kg alacaksın)\n"
          ]
        }
      ]
    },
    {
      "cell_type": "code",
      "metadata": {
        "id": "vn0voudXsbdT"
      },
      "source": [
        "print(\"%.11s\" % sentence)"
      ],
      "execution_count": null,
      "outputs": []
    },
    {
      "cell_type": "code",
      "metadata": {
        "id": "csgTdch2XvGY",
        "colab": {
          "base_uri": "https://localhost:8080/"
        },
        "cellView": "code",
        "outputId": "a441fe04-960c-4873-fc30-4c1f3bc7a8f2"
      },
      "source": [
        "hakediş = float(input(\"Getir Sipariş Tutarını giriniz              : \"))      # (GETİR_YEMEK) İÇİN HAKEDİŞ HESAPLAMASI\n",
        "ham_komsyn = float(hakediş/100*10)  \n",
        "komsyn_kdv = float(ham_komsyn/100*18)\n",
        "komsyn = float((hakediş/100*10)+((hakediş/100*10)/100*18))\n",
        "hakediş -= komsyn\n",
        "print(\"Getir Yemek'e Ödenecek Komisyon (KDV Dahil) : \",\"%.3f\" % komsyn)\n",
        "print(\"Getir Yemek'e Ödenecek Komisyon             : \",\"%.3f\" % ham_komsyn)\n",
        "print(\"Getir Yemek'e Ödenecek Komisyon (KDV'si)    : \",\"%.3f\" % komsyn_kdv)\n",
        "print(\"Teksos Döner'e Ödenecek Olan Toplam         : \",\"%.3f\" % hakediş)"
      ],
      "execution_count": 111,
      "outputs": [
        {
          "output_type": "stream",
          "name": "stdout",
          "text": [
            "Getir Sipariş Tutarını giriniz              : 1043.50\n",
            "Getir Yemek'e Ödenecek Komisyon (KDV Dahil) :  123.133\n",
            "Getir Yemek'e Ödenecek Komisyon             :  104.350\n",
            "Getir Yemek'e Ödenecek Komisyon (KDV'si)    :  18.783\n",
            "Teksos Döner'e Ödenecek Olan Toplam         :  920.367\n"
          ]
        }
      ]
    },
    {
      "cell_type": "code",
      "metadata": {
        "id": "kJnQFeW89err"
      },
      "source": [
        "₺ 1.043,50\t₺ 0,00\t₺ 114,01\t₺ 848,48"
      ],
      "execution_count": null,
      "outputs": []
    },
    {
      "cell_type": "code",
      "metadata": {
        "id": "dtAoa6ARCSfl"
      },
      "source": [
        "city = \"İstanbul\"\n",
        "print(city[::2])\n",
        "print(city[1::2])\n",
        "print(city[:6])\n",
        "print(city[-3:])\n",
        "print(city[::-1])\n",
        "print(city[-6:-2])     "
      ],
      "execution_count": null,
      "outputs": []
    },
    {
      "cell_type": "code",
      "metadata": {
        "id": "mDUm7vJHCSqZ"
      },
      "source": [
        "a = (1+3)**(2**(1*2/2)/2)\n",
        "print(a)"
      ],
      "execution_count": null,
      "outputs": []
    },
    {
      "cell_type": "code",
      "metadata": {
        "id": "COR2UuSfCStp"
      },
      "source": [
        "print(\"C:\\\\north pole\\noise_penguis.txt\", end='  ')\n",
        "print(\"...........\", end='  ')\n",
        "print(\"first\", \"second\", \"third\", sep='\\t')"
      ],
      "execution_count": null,
      "outputs": []
    },
    {
      "cell_type": "code",
      "metadata": {
        "id": "LX7mLChICSxS"
      },
      "source": [
        "fruit1 = 'Apple'\n",
        "fruit2 = 'Orange'\n",
        "print(2*fruit1, 3*fruit2, sep='  ')"
      ],
      "execution_count": null,
      "outputs": []
    },
    {
      "cell_type": "code",
      "metadata": {
        "id": "zPQLhoetCS0R"
      },
      "source": [
        "sentence = \"apologizing is a virtue\"\n",
        "\n",
        "print(\"%.10s\" % sentence)  # we get first 11 characters of the string"
      ],
      "execution_count": null,
      "outputs": []
    },
    {
      "cell_type": "code",
      "metadata": {
        "id": "VSm-FZy-CS4c"
      },
      "source": [
        "print('%(amount)d pounds of %(fruit)s left' % {'amount': 33, 'fruit':'bananas'})"
      ],
      "execution_count": null,
      "outputs": []
    },
    {
      "cell_type": "code",
      "metadata": {
        "id": "O_U0INwMCS6e"
      },
      "source": [
        "fruit = 'Orange'\n",
        "vegatable = 'Tomato'\n",
        "amount = 4\n",
        "print(\"The amount of {} and {} we bought is {} pounds\".format(fruit, vegatable, amount))"
      ],
      "execution_count": null,
      "outputs": []
    },
    {
      "cell_type": "code",
      "metadata": {
        "id": "os1N3mXBCS9W"
      },
      "source": [
        "print('{state} is the most {adjective} state of the {country}'.format(state='California', country='USA', adjective='crowded'))"
      ],
      "execution_count": null,
      "outputs": []
    },
    {
      "cell_type": "code",
      "metadata": {
        "id": "EmNbGG_OCTAg"
      },
      "source": [
        "print('{0} is the most {adjective} state of the {country}'.format('California', country='USA', adjective='crowded'))"
      ],
      "execution_count": null,
      "outputs": []
    },
    {
      "cell_type": "code",
      "metadata": {
        "id": "lWgVpJqnCTDw"
      },
      "source": [
        "print('{} is the most {} state of the {}'.format('California', 'crowded', 'USA'))"
      ],
      "execution_count": null,
      "outputs": []
    },
    {
      "cell_type": "code",
      "metadata": {
        "id": "D_txRruUCTFr"
      },
      "source": [
        "print(\"{6} {0} {5} {3} {4} {1} {2} \".format('have', 6, 'months', 'a job', 'in', 'found', 'I will'))"
      ],
      "execution_count": null,
      "outputs": []
    },
    {
      "cell_type": "code",
      "metadata": {
        "id": "T5NFAJj2CTIf"
      },
      "source": [
        "# \"Good teachers know how to bring out the best in students.\" \n",
        "print(\"{9} {7} {1} {10} {3} {2} {5} {8} {6} {0} {4}\".format('in', 'know', 'bring', 'to', 'students.', 'out', 'best', 'teachers', 'the', 'Good', 'how'))"
      ],
      "execution_count": null,
      "outputs": []
    },
    {
      "cell_type": "code",
      "metadata": {
        "id": "TNm2E3b0ewyr"
      },
      "source": [
        "fruit = 'Orange'\n",
        "vegetable = 'Tomato'\n",
        "amount = 6\n",
        "output = f\"The amount of {fruit} and {vegetable} we bought are totally {amount} pounds\"\n",
        "\n",
        "print(output)"
      ],
      "execution_count": null,
      "outputs": []
    },
    {
      "cell_type": "code",
      "metadata": {
        "id": "vVfIbXf9ew1k"
      },
      "source": [
        "my_name = 'METİN'\n",
        "output = f\"My name is {my_name.capitalize()}\"\n",
        "\n",
        "print(output)"
      ],
      "execution_count": null,
      "outputs": []
    },
    {
      "cell_type": "code",
      "metadata": {
        "id": "Tl-XLaHBew5T"
      },
      "source": [
        "result = f\"{4 * 5}\"\n",
        "\n",
        "print(result)"
      ],
      "execution_count": null,
      "outputs": []
    },
    {
      "cell_type": "code",
      "metadata": {
        "id": "U5sqVkTnew7B"
      },
      "source": [
        "name = \"Joseph\"\n",
        "job = \"teachers\"\n",
        "domain = \"Data Science\"\n",
        "message = (\n",
        "     f\"Hi {name}. \"\n",
        "     f\"You are one of the {job} \"\n",
        "     f\"in the {domain} section.\"\n",
        ")\n",
        "print(message)"
      ],
      "execution_count": null,
      "outputs": []
    },
    {
      "cell_type": "code",
      "metadata": {
        "id": "sbg0YdkhhC2v"
      },
      "source": [
        "name = \"Metin\"\n",
        "job = \"students\"\n",
        "domain = \"Cloud manager\"\n",
        "message = (\n",
        "    f\"Hi {name}. \"\n",
        "    f\"You are one of the {job} \"\n",
        "    f\"in the {domain} school.\"\n",
        ")\n",
        "print(message)"
      ],
      "execution_count": null,
      "outputs": []
    },
    {
      "cell_type": "code",
      "metadata": {
        "id": "FTjU8R2ShC5t"
      },
      "source": [
        "name = \"Metin\"\n",
        "job = \"students\"\n",
        "domain = \"Cloud manager\"\n",
        "message = f\"Hi {name}. \" \\\n",
        "    f\"You are one of the {job} \" \\\n",
        "    f\"in the {domain} school.\"\n",
        "\n",
        "print(message)"
      ],
      "execution_count": null,
      "outputs": []
    },
    {
      "cell_type": "markdown",
      "metadata": {
        "id": "n5gwavtDv1-H"
      },
      "source": [
        ""
      ]
    },
    {
      "cell_type": "code",
      "metadata": {
        "id": "7mR-ebi-hC8U"
      },
      "source": [
        "print(11//3)"
      ],
      "execution_count": null,
      "outputs": []
    },
    {
      "cell_type": "code",
      "metadata": {
        "id": "qZ2C5kQQccGA"
      },
      "source": [
        "sonuc = str((5+6)**2) + \"121\"\n",
        "print(sonuc)"
      ],
      "execution_count": null,
      "outputs": []
    },
    {
      "cell_type": "code",
      "metadata": {
        "id": "OJO0iQWTccJA"
      },
      "source": [
        "sonuc = ('sonuc' + 'sonuc') * 2\n",
        "print(sonuc)"
      ],
      "execution_count": null,
      "outputs": []
    },
    {
      "cell_type": "code",
      "metadata": {
        "id": "_pxzDEcaccMx"
      },
      "source": [
        "str_one = \"upper\"\n",
        "str_one += \"case\"\n",
        "print(str_one)\n",
        "str_one += \"letter\"\n",
        "print(str_one)\n",
        "str_one += \"end\"\n",
        "print(str_one)"
      ],
      "execution_count": null,
      "outputs": []
    },
    {
      "cell_type": "code",
      "metadata": {
        "id": "7W08o1Dd1bVF"
      },
      "source": [
        "saat = \"05:00\"\n",
        "yer = \"okul\"\n",
        "miktar = 2\n",
        "print(\"ben sabah {} de uyandım. {} 'a gittim. Gelirken de {} kg aldım.\".format(saat, yer, miktar))"
      ],
      "execution_count": null,
      "outputs": []
    },
    {
      "cell_type": "code",
      "metadata": {
        "id": "gHSsXLT31bZI"
      },
      "source": [
        "saat = \"05:00\"\n",
        "yer = \"okul\"\n",
        "miktar = 2\n",
        "print(\"ben sabah {} de uyandım. {} 'a gittim. Gelirken de {} kg aldım.\".format(\"05:00\",\"okul\", \"2\"))"
      ],
      "execution_count": null,
      "outputs": []
    },
    {
      "cell_type": "code",
      "metadata": {
        "id": "blv4kv041bdP"
      },
      "source": [
        "saat = \"05:00\"\n",
        "yer = \"okul\"\n",
        "miktar = 2\n",
        "print(\"ben sabah {1} de uyandım. {0} 'a gittim. Gelirken de {2} kg aldım.\".format(\"okul\", \"05:00\", 2))"
      ],
      "execution_count": null,
      "outputs": []
    },
    {
      "cell_type": "code",
      "metadata": {
        "id": "-1ybHCVi1bgx"
      },
      "source": [
        "text = f\"{str(11)+'11'}\"\n",
        "print(text)"
      ],
      "execution_count": null,
      "outputs": []
    },
    {
      "cell_type": "code",
      "metadata": {
        "id": "e8MTAzvO1bj1"
      },
      "source": [
        "text = f\"ali veli {'seli'.replace('s', 'd')}\"\n",
        "print(text)"
      ],
      "execution_count": null,
      "outputs": []
    },
    {
      "cell_type": "code",
      "metadata": {
        "id": "0ynWNqoh1bzi"
      },
      "source": [
        "name = \"MARİAM\"\n",
        "print(f\"My name is {name.capitalize()}\")"
      ],
      "execution_count": null,
      "outputs": []
    },
    {
      "cell_type": "code",
      "metadata": {
        "id": "p3yGwI0sEAI_"
      },
      "source": [
        "name = \"Joseph\"\n",
        "job = \"teachers\"\n",
        "domain = \"Data Science\"\n",
        "message = (\n",
        "    f\"Hi {name}. \"\n",
        "    f\"You are the one of {job} \"\n",
        "    f\"in the {domain} section.\"\n",
        ")\n",
        "print(message)"
      ],
      "execution_count": null,
      "outputs": []
    },
    {
      "cell_type": "code",
      "metadata": {
        "id": "SKUIeFpi1cCe"
      },
      "source": [
        "name = \"Susan\"\n",
        "age = \"young\"\n",
        "gender = \"lady\"\n",
        "scholl = \"CLRWY IT universty\"\n",
        "output = (\n",
        "    f\"{name}\" is a {age}\"\n",
        "    f\"{\"\n",
        ")\n",
        "print(f\"{} is a {} {} and she is astudent at the {}\".format())"
      ],
      "execution_count": null,
      "outputs": []
    },
    {
      "cell_type": "code",
      "metadata": {
        "id": "FYi8U9quG4G6"
      },
      "source": [
        "para = 1000\n",
        "para = para = para*1.07**7\n",
        "print(para)"
      ],
      "execution_count": null,
      "outputs": []
    },
    {
      "cell_type": "code",
      "metadata": {
        "id": "GQOSD3LHG4J-"
      },
      "source": [
        "gun_sayisi = 7\n",
        "account = 1000.0\n",
        "for i in range(gun_sayisi):\n",
        "    account *= 1.07\n",
        "print(\"at the end of 7th day your account is:  %.2f\" % (account))"
      ],
      "execution_count": null,
      "outputs": []
    },
    {
      "cell_type": "code",
      "metadata": {
        "id": "Cd-YceveG4Qo"
      },
      "source": [
        "# Hello! I am a new programmer and I love Clarusway.\n",
        "# Note : Use only given three words (\"Hello\", \"new\", \"love\") in the .format parentheses.\n",
        "text = \"{} I am a {} pragrammer and I {} Clarusway.\"\\\n",
        "      .format('Hello!', 'new', 'love') \n",
        "print(text)"
      ],
      "execution_count": null,
      "outputs": []
    },
    {
      "cell_type": "code",
      "metadata": {
        "id": "MFxmFnmFG4T6"
      },
      "source": [
        "word = 'clarusway'\n",
        "n = 3\n",
        "front = word[:n] \n",
        "back = word[n+1:]\n",
        "print(front + back)"
      ],
      "execution_count": null,
      "outputs": []
    },
    {
      "cell_type": "code",
      "metadata": {
        "id": "9md5ggCUG0kf"
      },
      "source": [
        "city = \"SARAJEVO\"\n",
        "\n",
        "text = f\"I live in {city.capitalize()}.\"\n",
        "print(text)"
      ],
      "execution_count": null,
      "outputs": []
    },
    {
      "cell_type": "code",
      "metadata": {
        "id": "9xlCqWQlccO4"
      },
      "source": [
        "phrase = \"myemailaddress@clarusway.com\"\n",
        "\n",
        "print(len(phrase))\n",
        "print(phrase.startswith(\"@\", 14))\n",
        "print(phrase.endswith(\".\", 15, 24))"
      ],
      "execution_count": null,
      "outputs": []
    },
    {
      "cell_type": "code",
      "metadata": {
        "id": "-WySjveMccRt"
      },
      "source": [
        "word = 'clarusway'\n",
        "front = word[:3] \n",
        "back = word[4:]\n",
        "print(front + back)"
      ],
      "execution_count": null,
      "outputs": []
    },
    {
      "cell_type": "code",
      "metadata": {
        "id": "68RKHeyoOnNW"
      },
      "source": [
        "fahrenheit = float(input(\"Enter temperature in fahrenheit: \"))\n",
        "celsius = (fahrenheit - 32) * 5/9\n",
        "print('%.2f Fahrenheit is: %0.2f Celsius' %(fahrenheit, celsius))"
      ],
      "execution_count": null,
      "outputs": []
    },
    {
      "cell_type": "code",
      "metadata": {
        "id": "EGoyXH7ZccfZ"
      },
      "source": [
        "celsius = float(input(\"Enter temperature in celsius: \"))\n",
        "fahrenheit = (celsius * 9/5) + 32\n",
        "print('%.2f Celsius is: %0.2f Fahrenheit' %(celsius, fahrenheit))\n"
      ],
      "execution_count": null,
      "outputs": []
    },
    {
      "cell_type": "code",
      "metadata": {
        "id": "njMPrGQ4Vky-"
      },
      "source": [
        "celsius = float(input(\"Enter temperature in celsius: \"))\n",
        "fahrenheit = (celsius * 9/5) + 32\n",
        "print(fahrenheit)"
      ],
      "execution_count": null,
      "outputs": []
    },
    {
      "cell_type": "code",
      "metadata": {
        "id": "KNTzjgoJVk1_"
      },
      "source": [
        "# Python Program - Get Float Input from User\n",
        "num = float(input(\"Enter a float value: \"))\n",
        "print(num)"
      ],
      "execution_count": null,
      "outputs": []
    },
    {
      "cell_type": "code",
      "metadata": {
        "id": "J5XfGqxwVk4T"
      },
      "source": [
        "print( (3**2)//2 )"
      ],
      "execution_count": null,
      "outputs": []
    },
    {
      "cell_type": "code",
      "metadata": {
        "id": "q_btLshnVk7G"
      },
      "source": [
        "# print(‘hello’, ‘-how’, ‘are’, ‘-you’)\n",
        "# B. print(‘hello’, ‘how’, ‘are-’, ‘you’ + ‘-‘ * 4)\n",
        "print(\"hello\", \"-\", \"how - are - you\")\n",
        "# D. print(‘hello’ + ‘-‘ + ‘how’ + ‘-‘ + ‘are’ + ‘you’)"
      ],
      "execution_count": null,
      "outputs": []
    },
    {
      "cell_type": "code",
      "metadata": {
        "id": "H06uYmikVk96"
      },
      "source": [
        "print(2**7)\n"
      ],
      "execution_count": null,
      "outputs": []
    },
    {
      "cell_type": "code",
      "metadata": {
        "id": "UfmzkwXIddOt"
      },
      "source": [
        "text = \"Clarusway, Clarusway, Clarusway,\"\n",
        "print(text, \"\\n\",\"\\t\", text, \"\\n\"\"\\t\\t\", text[0:31], sep=\"\")"
      ],
      "execution_count": null,
      "outputs": []
    },
    {
      "cell_type": "code",
      "metadata": {
        "id": "y-mjHEkIddSJ"
      },
      "source": [
        "enter temperature in celsius:Traceback (most recent call last):\n",
        "  File \"code.py\", line 1, in <module>\n",
        "    celsius = float(input(\"enter temperature in celsius:\"))\n",
        "EOFError: EOF when reading a line"
      ],
      "execution_count": null,
      "outputs": []
    },
    {
      "cell_type": "code",
      "metadata": {
        "id": "3lbCtpcgddYl"
      },
      "source": [
        "# to convert Celsius (centigrade) to Fahrenheit, the formula as shown: F = C * 9/5 + 32.\n",
        "celsius = float(input(\"Please Enter temperature in celsius: \"))\n",
        "fahrenheit = (celsius * 9/5) + 32\n",
        "print(\"Fahrenheit is   :\", fahrenheit)"
      ],
      "execution_count": null,
      "outputs": []
    },
    {
      "cell_type": "code",
      "metadata": {
        "id": "8gx_hx4NddcZ"
      },
      "source": [
        "x = 0.1 + 0.1 + 0.1\n",
        "\n",
        "print(x == 0.3)\n",
        "print(x)\n",
        "\n",
        "print(\"----------------------\")\n",
        "\n",
        "x = Decimal('0.1') + Decimal('0.1') + Decimal('0.1')\n",
        "\n",
        "print(x == Decimal('0.3'))\n",
        "print(float(x) == 0.3)\n",
        "print(x)"
      ],
      "execution_count": null,
      "outputs": []
    },
    {
      "cell_type": "code",
      "metadata": {
        "id": "csb01Yz2ddh-"
      },
      "source": [
        "# Program to convert Kilometers to Miles\n",
        "km = float(input(\"Enter the value in kilometers: \"))\n",
        "\n",
        "# 1 Kilometre = 0.621371 Mile\n",
        "ratio = 0.621371\n",
        "\n",
        "# Converting km to mi.\n",
        "miles = km * ratio\n",
        "\n",
        "print(\"The entered value in Miles: \", miles)"
      ],
      "execution_count": null,
      "outputs": []
    },
    {
      "cell_type": "code",
      "metadata": {
        "id": "6pA77D-CddpX"
      },
      "source": [
        "# Taking kilometers input from the user\n",
        "km = float(input(\"Enter the value in kilometers: \"))\n",
        "\n",
        "ratio = 0.621371  # 1 Kilometre = 0.621371 Mile.\n",
        "\n",
        "miles = km * ratio   # Converting km to miles\n",
        "\n",
        "print('%0.2f km is equal to %0.2f miles.' %(km,miles))"
      ],
      "execution_count": null,
      "outputs": []
    },
    {
      "cell_type": "code",
      "metadata": {
        "id": "WWlNizFNddwo"
      },
      "source": [
        "my_data = (1, [9, 8, 7], \"World\")\n",
        "print(my_data)\n",
        "\n",
        "# changing the element of the list\n",
        "# this is valid because list is mutable\n",
        "my_data[1][2] = 99\n",
        "print(my_data)\n"
      ],
      "execution_count": null,
      "outputs": []
    },
    {
      "cell_type": "code",
      "metadata": {
        "id": "fxiExhVC3CCL"
      },
      "source": [
        "# tuple of fruits\n",
        "my_tuple = (\"Apple\", \"Orange\", \"Grapes\", \"Banana\")\n",
        "\n",
        "# iterating over tuple elements\n",
        "for fruit in my_tuple:\n",
        "  print(fruit)"
      ],
      "execution_count": null,
      "outputs": []
    },
    {
      "cell_type": "code",
      "metadata": {
        "id": "lPCilBzL3CIR"
      },
      "source": [
        "num = float(input(\"Enter a float value: \"))\n",
        "print(num)"
      ],
      "execution_count": null,
      "outputs": []
    },
    {
      "cell_type": "code",
      "metadata": {
        "id": "iQQpHT0Y3CKT"
      },
      "source": [
        "num1 = float(input('Enter First Number: '))\n",
        "num2 = float(input('Enter Second Number: '))\n",
        "\n",
        "print(\"Value of num1 before swapping: \", num1)\n",
        "print(\"Value of num2 before swapping: \", num2)"
      ],
      "execution_count": null,
      "outputs": []
    },
    {
      "cell_type": "code",
      "metadata": {
        "id": "ZRoh2T1BKJlr"
      },
      "source": [
        "text = \"Clarusway, Clarusway, Clarusway,\"\n",
        "print(text, \"\\n\",\"\\t\", text, \"\\n\"\"\\t\\t\", text, sep=\"\")"
      ],
      "execution_count": null,
      "outputs": []
    },
    {
      "cell_type": "code",
      "metadata": {
        "id": "4FKugns1KJod"
      },
      "source": [
        "# Python program to swap two variables\n",
        "\n",
        "num1 = input('Enter First Number: ')\n",
        "num2 = input('Enter Second Number: ')\n",
        "\n",
        "print(\"Value of num1 before swapping: \", num1)\n",
        "print(\"Value of num2 before swapping: \", num2)\n",
        "\n",
        "# swapping two numbers without using temporary variable\n",
        "num1, num2 = num2, num1\n",
        "\n",
        "print(\"Value of num1 after swapping: \", num1)\n",
        "print(\"Value of num2 after swapping: \", num2)"
      ],
      "execution_count": null,
      "outputs": []
    },
    {
      "cell_type": "code",
      "metadata": {
        "id": "F-FAAfYK7e8r"
      },
      "source": [
        "# Python program to swap two variables\n",
        "\n",
        "num1 = input('Enter First Number: ')\n",
        "num2 = input('Enter Second Number: ')\n",
        "\n",
        "print(\"Value of num1 before swapping: \", num1)\n",
        "print(\"Value of num2 before swapping: \", num2)\n",
        "\n",
        "# swapping two numbers using temporary variable\n",
        "temp = num1\n",
        "num1 = num2\n",
        "num2 = temp\n",
        "\n",
        "print(\"Value of num1 after swapping: \", num1)\n",
        "print(\"Value of num2 after swapping: \", num2)\n"
      ],
      "execution_count": null,
      "outputs": []
    },
    {
      "cell_type": "code",
      "metadata": {
        "id": "JODY_8di7fEZ"
      },
      "source": [
        "name = input(\"what is your name?  \")\n",
        "print(\"Hello \", name)\n",
        "age = int(input(\"How old are you?    \"))\n",
        "if age>=70:\n",
        "  print(\"You are aged to perfection.\")\n",
        "else:\n",
        "  print(\"You are spring chicken\")\n"
      ],
      "execution_count": null,
      "outputs": []
    },
    {
      "cell_type": "code",
      "metadata": {
        "id": "E5F6q7f_7fI0",
        "colab": {
          "base_uri": "https://localhost:8080/"
        },
        "outputId": "613a50dd-6596-47d0-fb4a-e65b42dd62d2"
      },
      "source": [
        "hours = int(input(\"How many hours did you work weekly? \"))\n",
        "if hours <= 40:\n",
        "      pay = hours*20\n",
        "else:\n",
        "      pay = ((hours - 40)*1.5*20) + (40*20)\n",
        "print = (\"your weekly wage is :\", pay)"
      ],
      "execution_count": null,
      "outputs": [
        {
          "name": "stdout",
          "output_type": "stream",
          "text": [
            "How many hours did you work weekly? 45\n"
          ]
        }
      ]
    },
    {
      "cell_type": "code",
      "metadata": {
        "id": "n4uZITRUnJMW"
      },
      "source": [
        "for i in (1, 100, 2):\n",
        "  print (i)\n",
        "  islem = i**2+5\n",
        "  print(islem)\n",
        "print(\"end of loop\")"
      ],
      "execution_count": null,
      "outputs": []
    },
    {
      "cell_type": "code",
      "metadata": {
        "id": "xoB6ICPwnJQa"
      },
      "source": [
        "counter = 0\n",
        "while counter < 20:\n",
        "    print(\"Hello World!\"counter)\n",
        "    #counter = counter + 1\n",
        "    counter += 1\n",
        "print(\"End of while loop\")"
      ],
      "execution_count": null,
      "outputs": []
    },
    {
      "cell_type": "code",
      "metadata": {
        "id": "Vgc_46w-nJVT"
      },
      "source": [
        ""
      ],
      "execution_count": null,
      "outputs": []
    },
    {
      "cell_type": "code",
      "metadata": {
        "id": "9gokEBXO7fNI",
        "colab": {
          "base_uri": "https://localhost:8080/",
          "height": 135
        },
        "outputId": "0b78e41a-f842-4759-9adf-96e876748225"
      },
      "source": [
        "hour = print(int (input(\"work hours for day?\")))\n",
        "week_hour= hour * 7\n",
        "if week_hour >= 40:\n",
        "   hour_for_pay = 20 * 1.5\n",
        "   else\n",
        "   hour_for_pay = 20\n",
        "week_payment = print(\"week paymenr =\" , hour_for_pay , \"$\")"
      ],
      "execution_count": null,
      "outputs": [
        {
          "output_type": "error",
          "ename": "SyntaxError",
          "evalue": "ignored",
          "traceback": [
            "\u001b[0;36m  File \u001b[0;32m\"<ipython-input-17-9d14c0f517c5>\"\u001b[0;36m, line \u001b[0;32m5\u001b[0m\n\u001b[0;31m    else\u001b[0m\n\u001b[0m       ^\u001b[0m\n\u001b[0;31mSyntaxError\u001b[0m\u001b[0;31m:\u001b[0m invalid syntax\n"
          ]
        }
      ]
    },
    {
      "cell_type": "code",
      "metadata": {
        "id": "z6FJxRwkjVUD"
      },
      "source": [
        "if int(age) >= 75 or cigarette.startswith(\"E\") or immune.startswith(\"H\") or chronic.startswith(\"E\") :\n",
        "  print(\"Risk grubundasınız!\")\n",
        "else :\n",
        "  print(\"Risk grubunda değilsiniz!\")\n",
        "  "
      ],
      "execution_count": null,
      "outputs": []
    },
    {
      "cell_type": "code",
      "metadata": {
        "id": "NLkkAKhGjVgV"
      },
      "source": [
        "age = True\n",
        "chronic = True\n",
        "immune = True\n",
        "risk = age or chronic or immune\n",
        "print(risk)\n",
        "\n",
        "Alternatif grup çalışmasında çıkan çözüm\n",
        "\n",
        "age = input(\"Yaşınızı Giriniz :\")\n",
        "chronic = input(\"Kronik Rahatsızlığınız Var mı?(E/H:\")\n",
        "immune = input(\"Bağışıklığınız Kuvvetli mi?(E/H)\")\n",
        "cigarette = input(\"Sigara Kullanıyor musunuz?(E/H)\")\n",
        "\n",
        "if int(age) >= 75 or cigarette.startswith(\"E\") or immune.startswith(\"H\") or chronic.startswith(\"E\") :\n",
        "  print(\"Risk grubundasınız!\")\n",
        "else :\n",
        "  print(\"Risk grubunda değilsiniz!\")"
      ],
      "execution_count": null,
      "outputs": []
    },
    {
      "cell_type": "code",
      "metadata": {
        "id": "1tL4V132jWWD"
      },
      "source": [
        "age = input(\"Yaşınızı Giriniz :\")\n",
        "chronic = input(\"Kronik Rahatsızlığınız Var mı?(E/H): \")\n",
        "immune = input(\"Bağışıklığınız Kuvvetli mi?(E/H) \")\n",
        "cigarette = input(\"Sigara Kullanıyor musunuz?(E/H) \")\n",
        "\n",
        "if int(age) >= 75 or cigarette.startswith(\"E\") or immune.startswith(\"H\") or chronic.startswith(\"E\") :\n",
        "  print(\"Risk grubundasınız!\")\n",
        "else :\n",
        "  print(\"Risk grubunda değilsiniz!\")"
      ],
      "execution_count": null,
      "outputs": []
    },
    {
      "cell_type": "code",
      "metadata": {
        "id": "S21O5BaIjWf1"
      },
      "source": [
        "Problem :\n",
        "\n",
        "Task : Estimating the risk of death from coronavirus.\n",
        "\n",
        "Consider the following questions in terms of True/False regarding anyone else.\n",
        "\n",
        "Are you a cigarette addict older than 75 years old? Variable → age\n",
        "\n",
        "Do you have a severe chronic disease? Variable → chronic\n",
        "\n",
        "Is your immune system too weak? Variable → immune\n",
        "\n",
        "Set a logical algorithm using boolean logic operators (and/or) and the given variables in order to give us True (there is a risk of death) \n",
        "or False (there is not a risk of death) as a result.\n",
        "age =  # can be assigned only True/False\n",
        "chronic =  # can be assigned only True/False\n",
        "immune =  # can be assigned only True/False\n",
        "risk = ? (True or False)"
      ],
      "execution_count": null,
      "outputs": []
    },
    {
      "cell_type": "code",
      "metadata": {
        "id": "q8BvbN3E6AqX"
      },
      "source": [
        "age = True\n",
        "chronic = True\n",
        "immune = True\n",
        "risk = age or chronic or immune\n",
        "print(risk)"
      ],
      "execution_count": null,
      "outputs": []
    },
    {
      "cell_type": "code",
      "metadata": {
        "id": "BkUZEVnEA-r7"
      },
      "source": [
        "age = int(input(\"How old are you? : \"))\n",
        "cigarette = input(\"Are you a cigarette addict? (True/False) \")\n",
        "chronic = input(\"Do you have a severe chronic disease? (True/False)\")\n",
        "immune = input(\"Is your immune system too weak? (True/False)\")\n",
        "True = Evet, False = Hayır\n",
        "if int(age) >= 75 or cigarette.startswith(\"T\") or immune.startswith(\"F\") or chronic.startswith(\"T\") :\n",
        "  print(\"Risk grubundasınız! (True)\")\n",
        "else :\n",
        "  print(\"Risk grubunda değilsiniz! (False)\")\n"
      ],
      "execution_count": null,
      "outputs": []
    },
    {
      "cell_type": "code",
      "metadata": {
        "id": "BkfxB0ZZ5_yi"
      },
      "source": [
        "text = \"www.clarusway.com\"\n",
        "print(text.endswith('.com'))\n",
        "print(text.startswith('http:'))"
      ],
      "execution_count": null,
      "outputs": []
    },
    {
      "cell_type": "code",
      "metadata": {
        "id": "eSD2JzuiA-vk"
      },
      "source": [
        "x = 25\n",
        "y = 65\n",
        "x, y = y, x\n",
        "print(x, y)"
      ],
      "execution_count": null,
      "outputs": []
    },
    {
      "cell_type": "code",
      "metadata": {
        "id": "gbQeS21EA-za"
      },
      "source": [
        "print(\"Enter the array:\\n\")   \n",
        "userInput = input().splitlines()\n",
        "print(userInput)"
      ],
      "execution_count": null,
      "outputs": []
    },
    {
      "cell_type": "code",
      "metadata": {
        "id": "aUu09jNyA-1S"
      },
      "source": [
        "x, y = input(\"Enter a two value: \"). split()\n",
        "print(\"Number of boys: \", x)\n",
        "print(\"Number of girls: \", y)\n",
        "print()"
      ],
      "execution_count": null,
      "outputs": []
    },
    {
      "cell_type": "code",
      "metadata": {
        "id": "Du0nbfwWA-4k"
      },
      "source": [
        "# AppleApple OrangeOrangeOrange\n",
        "fruit1 = 'Apple'\n",
        "fruit2 = 'Orange'\n",
        "\n",
        "print(2*fruit1+' '+3*fruit2)  \n",
        "# sep=' ' ''  ' ' + = "
      ],
      "execution_count": null,
      "outputs": []
    },
    {
      "cell_type": "code",
      "metadata": {
        "id": "86x9M2MDNNis"
      },
      "source": [
        "phrase = 'I have %d %s and %.f brothers' % (4, \"children\", 5)  # %.f = %.0f, \n",
        "print (phrase)  # %d = numeric, %s=string"
      ],
      "execution_count": null,
      "outputs": []
    },
    {
      "cell_type": "code",
      "metadata": {
        "id": "RUYcqEZ7XFRB"
      },
      "source": [
        "phrase = 'I have %.2d %s and %.3f brothers' % (4, \"children\", 5)  # %.f = %.0f, \n",
        "print (phrase)  # %d = numeric, %s=string"
      ],
      "execution_count": null,
      "outputs": []
    },
    {
      "cell_type": "code",
      "metadata": {
        "id": "Kef1aWqqXvLf"
      },
      "source": [
        "sentence = \"apologizing is a virtue\"\n",
        "print(\"%.11s\" % sentence)  # we get first 11 characters of the string"
      ],
      "execution_count": null,
      "outputs": []
    },
    {
      "cell_type": "code",
      "metadata": {
        "id": "KzmUaam4YgRJ"
      },
      "source": [
        "print('%(amount)d pounds of %(fruit)s left' % {'amount': 33, 'fruit':'bananas'})"
      ],
      "execution_count": null,
      "outputs": []
    },
    {
      "cell_type": "code",
      "metadata": {
        "id": "2yNIWZTfY-gL"
      },
      "source": [
        "print('%d pounds of %s left' %(33,'bananas'))"
      ],
      "execution_count": null,
      "outputs": []
    },
    {
      "cell_type": "code",
      "metadata": {
        "id": "GwkdRblLhXie"
      },
      "source": [
        "fruit = 'Orange'\n",
        "vegetable = 'Tomato'\n",
        "amount = 4\n",
        "print('The amount of {} and {} we bought are {} pounds'.format(fruit, vegetable, amount))"
      ],
      "execution_count": null,
      "outputs": []
    },
    {
      "cell_type": "code",
      "metadata": {
        "id": "Rgaifp9qiPSM"
      },
      "source": [
        "print('{state} is the most {adjective} state of the {country}'.format(state='California', country='USA', adjective='crowded'))"
      ],
      "execution_count": null,
      "outputs": []
    },
    {
      "cell_type": "code",
      "metadata": {
        "id": "1tvGn97WiRjq"
      },
      "source": [
        "print('{} is the most {} state of the {}'.format(\"California\", \"crowded\", \"USA\"))"
      ],
      "execution_count": null,
      "outputs": []
    },
    {
      "cell_type": "code",
      "metadata": {
        "id": "fDx5t69QiRpR"
      },
      "source": [
        "print('{0} is the most {2} state of the {1}'.format(\"California\", \"USA\", \"crowded\"))"
      ],
      "execution_count": null,
      "outputs": []
    },
    {
      "cell_type": "code",
      "metadata": {
        "id": "P_poRaOejb4s"
      },
      "source": [
        "state='California'\n",
        "country='USA'\n",
        "adjective='crowded'\n",
        "print('{} is the most {} state of the {}'.format(state, adjective, country))"
      ],
      "execution_count": null,
      "outputs": []
    },
    {
      "cell_type": "code",
      "metadata": {
        "id": "U5XqMmhzmaRm"
      },
      "source": [
        "name = \"Joseph\"\n",
        "job = \"teachers\"\n",
        "domain = \"Data Science\"\n",
        "message = (f\"Hi {name}. \"\n",
        "     f\"You are one of the {job} \"\n",
        "     f\"in the {domain} section.\")\n",
        "print(message)"
      ],
      "execution_count": null,
      "outputs": []
    },
    {
      "cell_type": "code",
      "metadata": {
        "id": "VpmDC2fnmezN"
      },
      "source": [
        "name = \"Joseph\"\n",
        "job = \"teachers\"\n",
        "domain = \"Data Science\"\n",
        "message = f\"Hi {name}. \" \\\n",
        "     f\"You are one of the {job} \" \\\n",
        "     f\"in the {domain} section.\"\n",
        "print(message)"
      ],
      "execution_count": null,
      "outputs": []
    },
    {
      "cell_type": "code",
      "metadata": {
        "id": "IezHkV9KA-7b"
      },
      "source": [
        "!pip install haversine"
      ],
      "execution_count": null,
      "outputs": []
    },
    {
      "cell_type": "code",
      "metadata": {
        "id": "DiiLCM4HzWKv"
      },
      "source": [
        "x = 25\n",
        "x //= 4\n",
        "print(x)"
      ],
      "execution_count": null,
      "outputs": []
    },
    {
      "cell_type": "code",
      "metadata": {
        "id": "BBe6a9oAzWNv"
      },
      "source": [
        "phrase = \"myemailaddress@clarusway.com\"\n",
        "\n",
        "print(len(phrase))\n",
        "print(phrase.startswith(\"@\", 14))\n",
        "print(phrase.endswith(\".\", 15, 24))"
      ],
      "execution_count": null,
      "outputs": []
    },
    {
      "cell_type": "code",
      "metadata": {
        "id": "zlw4UmEF7HTr"
      },
      "source": [
        "print(\"Actions speaks louder than words\".upper().swapcase().capitalize())"
      ],
      "execution_count": null,
      "outputs": []
    },
    {
      "cell_type": "code",
      "metadata": {
        "id": "LwGgW9oa7f69"
      },
      "source": [
        "sentence = \"I live and work in Virginia\"\n",
        "swap_case = sentence.swapcase()\n",
        "print(swap_case)\n",
        "print(swap_case.capitalize())  # changes 'i' to uppercase and\n",
        "# the rest to lowercase"
      ],
      "execution_count": null,
      "outputs": []
    },
    {
      "cell_type": "code",
      "metadata": {
        "id": "Zo1D5jMReYib"
      },
      "source": [
        "source_string = \"interoperability\"\n",
        "print(source_string.strip(\"yi\"))  \n",
        "# removes trailing \"y\" or \"i\" or \"yi\" or \"iy\" from both sides"
      ],
      "execution_count": null,
      "outputs": []
    },
    {
      "cell_type": "code",
      "metadata": {
        "id": "unHP_siGiVgN"
      },
      "source": [
        "source_string = \"interoperability\"\n",
        "print(source_string.lstrip(\"in\"))  \n",
        "# removes \"i\" or \"n\" or \"in\" or \"ni\" from the left side"
      ],
      "execution_count": null,
      "outputs": []
    },
    {
      "cell_type": "code",
      "metadata": {
        "id": "mKVgcEuDiauZ"
      },
      "source": [
        "space_string = \"     listen first      \"\n",
        "print(space_string.lstrip())  # removes spaces from the right side"
      ],
      "execution_count": null,
      "outputs": []
    },
    {
      "cell_type": "code",
      "metadata": {
        "id": "_H1CnpN7ik5E"
      },
      "source": [
        "space_string = \"     listen first      \"\n",
        "print(space_string.strip())  # removes all spaces from both sides"
      ],
      "execution_count": null,
      "outputs": []
    },
    {
      "cell_type": "code",
      "metadata": {
        "id": "SmP2OMQwik-t"
      },
      "source": [
        "print('www', 'clarusway', \"com\", sep='.', end=' ')\n",
        "print('will', end=' ')\n",
        "print('open', end=' ')\n",
        "print('your', end=' ')\n",
        "print('path', end='.')"
      ],
      "execution_count": null,
      "outputs": []
    },
    {
      "cell_type": "code",
      "metadata": {
        "id": "CLHPv7rfilGJ"
      },
      "source": [
        "print(\"clarusway\" + str(2020))"
      ],
      "execution_count": null,
      "outputs": []
    },
    {
      "cell_type": "code",
      "metadata": {
        "id": "QkDekENLpXU3"
      },
      "source": [
        "x = 12\n",
        "y = x + 21\n",
        "x = 2\n",
        "print(y//x)\n",
        "# 16"
      ],
      "execution_count": null,
      "outputs": []
    },
    {
      "cell_type": "code",
      "metadata": {
        "id": "I0zv85m5pXXo"
      },
      "source": [
        "# Write a code to print the sum of 12 and 21.\n",
        "print(12+21)"
      ],
      "execution_count": null,
      "outputs": []
    },
    {
      "cell_type": "code",
      "metadata": {
        "id": "gqRTYO3KpXbC"
      },
      "source": [
        "number=\"32\"\n",
        "print(1988+int(number))"
      ],
      "execution_count": null,
      "outputs": []
    },
    {
      "cell_type": "code",
      "metadata": {
        "id": "kn8PzT8qpXef"
      },
      "source": [
        "print(\"{4} {9} {1} {7} {5} {0} {6} {8} {3} {2}\".format('while', 'dream', 'work.', 'and', 'Some', 'success', 'others', 'of', 'wake up', 'people'))"
      ],
      "execution_count": null,
      "outputs": []
    },
    {
      "cell_type": "code",
      "metadata": {
        "id": "URYDZPEfthRV",
        "colab": {
          "base_uri": "https://localhost:8080/"
        },
        "outputId": "4aabcc6b-a51d-4dde-a362-d44121c58fb2"
      },
      "source": [
        "# ('job.', 'a', 'will', 'I', 'find')\n",
        "# \"I will find a job.\"\n",
        "# print(\"{0} {1}\".format('first', 'second'))\n",
        "print(\"{3} {2} {4} {1} {0}\".format('job.', 'a', 'will', 'I', 'find'))"
      ],
      "execution_count": null,
      "outputs": [
        {
          "output_type": "stream",
          "name": "stdout",
          "text": [
            "I will find a job.\n"
          ]
        }
      ]
    },
    {
      "cell_type": "code",
      "metadata": {
        "id": "DAXa6CXtthUq"
      },
      "source": [
        "print(not None or 5)"
      ],
      "execution_count": null,
      "outputs": []
    },
    {
      "cell_type": "code",
      "metadata": {
        "id": "-snLS_HevEJI"
      },
      "source": [
        " section_3_5 = \"python data types and useful operations\"\n",
        " print(str.title(section_3_5))"
      ],
      "execution_count": null,
      "outputs": []
    },
    {
      "cell_type": "code",
      "metadata": {
        "id": "fN6dZUEythXF"
      },
      "source": [
        "{0}\n",
        "or\n",
        "and\n",
        "[]\n",
        "False"
      ],
      "execution_count": null,
      "outputs": []
    },
    {
      "cell_type": "code",
      "metadata": {
        "id": "uAmVvBbbthZ9"
      },
      "source": [
        "print({0} and False or [])"
      ],
      "execution_count": null,
      "outputs": []
    },
    {
      "cell_type": "code",
      "metadata": {
        "id": "OUu3zrqEthcd"
      },
      "source": [
        "print(float(\"140\" * int(input(\"Enter a number:\" ))))\n"
      ],
      "execution_count": null,
      "outputs": []
    },
    {
      "cell_type": "code",
      "metadata": {
        "id": "8UfnCxZethf8"
      },
      "source": [
        "print(int(\"5\" + \"1\"))\n",
        "print(str(\"5\" + \"1\"))\n",
        "print(\"5\" + \"1\")"
      ],
      "execution_count": null,
      "outputs": []
    },
    {
      "cell_type": "code",
      "metadata": {
        "id": "E4d_tt01zGRc"
      },
      "source": [
        "# sentence = \"The less you sleep and eat, the better your life will be.\"\n",
        "var1 = \"sleep\"\n",
        "var2 = \"eat\"\n",
        "var3 = \"better\"\n",
        "var4 = \"life\"\n",
        "print(f\"The less you {var1} and {var2}, the {var3} your {var4} will be.\")"
      ],
      "execution_count": null,
      "outputs": []
    },
    {
      "cell_type": "code",
      "metadata": {
        "id": "9hSkUxSw0lfz"
      },
      "source": [
        "city = \"SARAJEVO\"\n",
        "# “I live in Sarajevo.”\n",
        "# using .capitalize() and f-string methods with the city variable below.\n",
        "print(f\"I live in {city.capitalize()}.\")"
      ],
      "execution_count": null,
      "outputs": []
    },
    {
      "cell_type": "code",
      "metadata": {
        "id": "3lB1B5ph0lr_"
      },
      "source": [
        "text = \"clarusway\"\n",
        "print(text.startswith(\"u\", 4, 8))"
      ],
      "execution_count": null,
      "outputs": []
    },
    {
      "cell_type": "code",
      "metadata": {
        "id": "s0mT8ilWYT60"
      },
      "source": [
        "text = \"clarusway\"\n",
        "text1 = text.replace(\"c\", \"C\")\n",
        "print(text1)"
      ],
      "execution_count": null,
      "outputs": []
    },
    {
      "cell_type": "code",
      "metadata": {
        "id": "VEv39B_-YT-I"
      },
      "source": [
        "age = True / False\n",
        "chronic = True / False\n",
        "immune = True / False\n",
        "\n",
        "risk = immune and (age or chronic)\n",
        "\n",
        "print((risk and \"There is a risk of death\") or (\"There is NOT a risk of death\"))"
      ],
      "execution_count": null,
      "outputs": []
    },
    {
      "cell_type": "code",
      "metadata": {
        "id": "JfpRqGeAYUBD"
      },
      "source": [
        "text = \"the better the family, the better the society\"\n",
        "print(text.title())"
      ],
      "execution_count": null,
      "outputs": []
    },
    {
      "cell_type": "code",
      "metadata": {
        "id": "CpR5J7FqYUEG"
      },
      "source": [
        "text = \"   \\t    listen first\\t\" #     ,\\n, \\t\"\n",
        "print(text.strip)   "
      ],
      "execution_count": null,
      "outputs": []
    },
    {
      "cell_type": "code",
      "metadata": {
        "id": "IhGJclp6YUHp"
      },
      "source": [
        "print(\"clarusway\".strip(\"cy\"))"
      ],
      "execution_count": null,
      "outputs": []
    },
    {
      "cell_type": "code",
      "metadata": {
        "id": "vm0hIY6ppi3C"
      },
      "source": [
        "text = 'tyou can learn almost everything in pre-classz'\n",
        "print(text.strip('tz').upper())"
      ],
      "execution_count": null,
      "outputs": []
    },
    {
      "cell_type": "code",
      "metadata": {
        "id": "rUFyPBSMqsM5"
      },
      "source": [
        "a = 1\n",
        "print(-a)"
      ],
      "execution_count": null,
      "outputs": []
    },
    {
      "cell_type": "code",
      "metadata": {
        "id": "j1mnnExnqsQF"
      },
      "source": [
        "b =-11\n",
        "print(-b)"
      ],
      "execution_count": null,
      "outputs": []
    },
    {
      "cell_type": "code",
      "metadata": {
        "id": "MjcmrwpvqsUA",
        "colab": {
          "base_uri": "https://localhost:8080/"
        },
        "outputId": "2c58135c-9d9c-4b2c-c32a-90048b5b575d"
      },
      "source": [
        "a = 3\n",
        "b = 4\n",
        "print(\"the sum of {} + {} is  :{}\".format(a, b, (a+b)))"
      ],
      "execution_count": null,
      "outputs": [
        {
          "output_type": "stream",
          "name": "stdout",
          "text": [
            "the sum of 3 + 4 is  :7\n"
          ]
        }
      ]
    },
    {
      "cell_type": "code",
      "metadata": {
        "id": "FoXczxpNrgzb"
      },
      "source": [
        "print(\"The multip.. of {} * {} is  : {}\".format(a,b, a*b))"
      ],
      "execution_count": null,
      "outputs": []
    },
    {
      "cell_type": "code",
      "metadata": {
        "id": "RqYjv1A9x_IZ",
        "colab": {
          "base_uri": "https://localhost:8080/"
        },
        "outputId": "4b17ec07-994a-4476-f909-5b3c2ad0068f"
      },
      "source": [
        "text = \"{:.2f}, {:.3f}, {:.4f}\".format(3.15, 6.5685, 9.855556)\n",
        "print(text)"
      ],
      "execution_count": null,
      "outputs": [
        {
          "output_type": "stream",
          "name": "stdout",
          "text": [
            "3.15, 6.569, 9.8556\n"
          ]
        }
      ]
    },
    {
      "cell_type": "code",
      "metadata": {
        "id": "CLdL_SYJzziP",
        "colab": {
          "base_uri": "https://localhost:8080/"
        },
        "outputId": "fdd53aa5-564e-467b-c579-0d0e41ea0b5d"
      },
      "source": [
        "text = \"{:.2}, {:.3}, {:.4}\".format(3.15, 6.5685, 9.855556)\n",
        "print(text)"
      ],
      "execution_count": null,
      "outputs": [
        {
          "output_type": "stream",
          "name": "stdout",
          "text": [
            "3.1, 6.57, 9.856\n"
          ]
        }
      ]
    },
    {
      "cell_type": "code",
      "metadata": {
        "id": "UuNC8bwxx_Mn"
      },
      "source": [
        "text = \"{:.2}, {:.3}, {:.4}\".format(\"a3.1463\", \"6.b5685\", \"9.855556c\")\n",
        "print(text) # t"
      ],
      "execution_count": null,
      "outputs": []
    },
    {
      "cell_type": "code",
      "metadata": {
        "id": "jBUbMgthx_RL"
      },
      "source": [
        "text = \"{:>10}\".format(\"test\")\n",
        "print(text)"
      ],
      "execution_count": null,
      "outputs": []
    },
    {
      "cell_type": "code",
      "metadata": {
        "id": "TpvrI_BLx_Um"
      },
      "source": [
        "text = \"{:<10}\".format(\"test\")\n",
        "print(text)"
      ],
      "execution_count": null,
      "outputs": []
    },
    {
      "cell_type": "code",
      "metadata": {
        "id": "IyAPvYuqx_YT",
        "colab": {
          "base_uri": "https://localhost:8080/"
        },
        "outputId": "2c1a700b-5d18-493e-e5f2-f17502d63ecd"
      },
      "source": [
        "text = \"formatlama satırı {:>20} bu da textin son kısmı\".format(\"test\")\n",
        "print(text)"
      ],
      "execution_count": null,
      "outputs": [
        {
          "output_type": "stream",
          "name": "stdout",
          "text": [
            "formatlama satırı                 test bu da textin son kısmı\n"
          ]
        }
      ]
    },
    {
      "cell_type": "code",
      "metadata": {
        "id": "IuPTDhtwx_e7"
      },
      "source": [
        "text = \"formatlama satırı {:<20} bu da textin son kısmı\".format(\"okkes\")\n",
        "print(text)"
      ],
      "execution_count": null,
      "outputs": []
    },
    {
      "cell_type": "code",
      "metadata": {
        "id": "QY4qWqY-1g2o"
      },
      "source": [
        "text = \"{:^20}\".format(\"abc\")\n",
        "print(text) #ortalama"
      ],
      "execution_count": null,
      "outputs": []
    },
    {
      "cell_type": "code",
      "metadata": {
        "id": "gkAKtYOf1g6I"
      },
      "source": [
        "text = \"{:10.5}\".format(\"hippopotamus\")\n",
        "print(text)"
      ],
      "execution_count": null,
      "outputs": []
    },
    {
      "cell_type": "code",
      "metadata": {
        "id": "36WjOVVQ1g9f"
      },
      "source": [
        "text = \"{:>15.5}\".format(\"hippopotamus\")\n",
        "print(text)"
      ],
      "execution_count": null,
      "outputs": []
    },
    {
      "cell_type": "code",
      "metadata": {
        "id": "17D6tIq_1hAo"
      },
      "source": [
        "text = \"{:+}\".format(55)\n",
        "print(text)"
      ],
      "execution_count": null,
      "outputs": []
    },
    {
      "cell_type": "code",
      "metadata": {
        "id": "qHMPyrLp1hDk"
      },
      "source": [
        "age = True\n",
        "cronic = False\n",
        "immune = True\n",
        "risk = age or cronic or immune\n",
        "print(risk)"
      ],
      "execution_count": null,
      "outputs": []
    },
    {
      "cell_type": "code",
      "metadata": {
        "id": "dO7Fa48k3HID"
      },
      "source": [
        "hocam sorudan anladığım kadarıyla input almamız gerektiğini düşündüm . ve ;\n",
        "print(\" TASK : Estimating the risk of death from coronavirus\")\n",
        "print(\"\")\n",
        "print(\" !!Case sensitive!! Please give answers just with 'y or n' \"  )\n",
        "print(\"\")\n",
        "age = input(\"Are you a cigarette addict older than 75 years old?  y/n \")\n",
        "chronic = input(\"Do you have a severe chronic disease?  y/n \")\n",
        "immune = input(\"Is your immune system too weak?  y/n \")\n",
        "if age ==\"y\":\n",
        "    age=True\n",
        "elif age!=\"y\":\n",
        "    age=False\n",
        "if chronic ==\"y\":\n",
        "    chronic=True\n",
        "elif chronic!=\"y\":\n",
        "    chronic=False\n",
        "if immune ==\"y\":\n",
        "    immune=True\n",
        "elif immune!=\"y\":\n",
        "    immune=False\n",
        "print(\"\")\n",
        "print(age, chronic, immune)\n",
        "print(\"\")\n",
        "if age and chronic and immune ==True:\n",
        "    print(\"there is a risk of death\")\n",
        "else:\n",
        "      print(\"there is not a risk of death\")\n",
        "\n",
        "D1397 - Kaan  10:43 PM\n",
        "hocam ben böyle yaptım yanlış mı ?\n",
        "age =  int(input(\"Are you a cigarette addict older than 75 years old?\"))\n",
        "if age >0:\n",
        "    print(\"True\")\n",
        "if age <1:\n",
        "    print(\"False\")\n",
        "chronic = int(input(\"Do you have a severe chronic disease?\"))\n",
        "if chronic >0:\n",
        "    print(\"True\")\n",
        "if chronic <1:\n",
        "    print(\"False\")\n",
        "immune = int(input(\"Is your immune system too weak?\"))\n",
        "if immune >0:\n",
        "    print(\"True\")\n",
        "if immune <1:\n",
        "    print(\"False\")\n",
        "risk = age or chronic or immune\n",
        "print(risk)"
      ],
      "execution_count": null,
      "outputs": []
    },
    {
      "cell_type": "code",
      "metadata": {
        "id": "YWCp6OLu3HMQ",
        "colab": {
          "base_uri": "https://localhost:8080/"
        },
        "outputId": "644b927a-281a-46b4-d3b6-f5732851c92d"
      },
      "source": [
        "name = \"John\"\n",
        "age = 23\n",
        "if name == \"John\" and age == 23:\n",
        "    print(\"Your name is John, and you are also 23 years old.\")\n",
        "\n",
        "if name == \"John\" or name == \"Rick\":\n",
        "    print(\"Your name is either John or Rick.\")"
      ],
      "execution_count": null,
      "outputs": [
        {
          "output_type": "stream",
          "name": "stdout",
          "text": [
            "Your name is John, and you are also 23 years old.\n",
            "Your name is either John or Rick.\n"
          ]
        }
      ]
    },
    {
      "cell_type": "code",
      "metadata": {
        "id": "jRLcURXt3HQS"
      },
      "source": [
        "x = 2\n",
        "print(x == 2) # prints out True\n",
        "print(x == 3) # prints out False\n",
        "print(x < 3) # prints out True"
      ],
      "execution_count": null,
      "outputs": []
    },
    {
      "cell_type": "code",
      "metadata": {
        "id": "WYamfwDl3HU0"
      },
      "source": [
        "age = int(input(\"Are you a cigarette addict older than 75 years old?\"))  # İf input if yes 1 or 0\n",
        "if age > 0:\n",
        "    print(\"True\")\n",
        "if age < 1:\n",
        "    print(\"False\")\n",
        "chronic = int(input(\"Do you have a severe chronic disease?\"))\n",
        "if chronic >0:\n",
        "    print(\"True\")\n",
        "if chronic <1:\n",
        "    print(\"False\")\n",
        "immune = int(input(\"Is your immune system too weak?\"))\n",
        "if immune >0:\n",
        "    print(\"True\")\n",
        "if immune <1:\n",
        "    print(\"False\")\n",
        "risk = age or chronic or immune\n",
        "print(risk)"
      ],
      "execution_count": null,
      "outputs": []
    },
    {
      "cell_type": "code",
      "metadata": {
        "id": "_LxLUCBy3Hc5"
      },
      "source": [
        "warning = 'You must quit smoking!'\n",
        "\n",
        "print(len(warning))"
      ],
      "execution_count": null,
      "outputs": []
    },
    {
      "cell_type": "code",
      "metadata": {
        "id": "XWFYpRdb3Hit"
      },
      "source": [
        "city = ['New York', 'London', 'Istanbul', 'Seoul', 'Sydney']\n",
        "empty_list = [] \n",
        "empty_list.append('114')\n",
        "empty_list.append(city)\n",
        "empty_list.append('plastic-free sea')\n",
        "empty_list.insert(0, 113)\n",
        "empty_list[0] = \"clarusway\"\n",
        "# empty_list.sort()\n",
        "print('my list :', empty_list) \n"
      ],
      "execution_count": null,
      "outputs": []
    },
    {
      "cell_type": "code",
      "metadata": {
        "id": "VPTqjI761hHE"
      },
      "source": [
        "city = ['New York', 'London', 'Istanbul', 'Seoul', 'Sydney']\n",
        "city.append('Addis Ababa')\n",
        "\n",
        "print(city) "
      ],
      "execution_count": null,
      "outputs": []
    },
    {
      "cell_type": "code",
      "metadata": {
        "id": "XSXDWg1tCjCf"
      },
      "source": [
        "city = ['New York', 'London', 'Istanbul', 'Seoul', 'Sydney', 'Addis Ababa']\n",
        "city.insert(4, 'Stockholm')\n",
        "\n",
        "print(city)"
      ],
      "execution_count": null,
      "outputs": []
    },
    {
      "cell_type": "code",
      "metadata": {
        "id": "dKhYI5zsCjFi"
      },
      "source": [
        "city = ['New York', 'London', 'Istanbul', 'Seoul', 'Sydney', 'Addis Ababa']\n",
        "city.remove(\"London\")\n",
        "print(city)"
      ],
      "execution_count": null,
      "outputs": []
    },
    {
      "cell_type": "code",
      "metadata": {
        "id": "WURM10MSEZpo"
      },
      "source": [
        "city = ['New York', 'London', 'Istanbul', 'Seoul', 'Sydney', 'Addis Ababa']\n",
        "city.sort()\n",
        "print(city)"
      ],
      "execution_count": null,
      "outputs": []
    },
    {
      "cell_type": "code",
      "metadata": {
        "id": "gRmtjc7mEZtk"
      },
      "source": [
        "city = ['Addis Ababa', 'Istanbul', 'New York', 'Seoul', 'Stockholm', 'Sydney']\n",
        "print(len(city))"
      ],
      "execution_count": null,
      "outputs": []
    },
    {
      "cell_type": "code",
      "metadata": {
        "id": "PalVcm_bEZwF"
      },
      "source": [
        "my_list = [1, 3, 5, 7]\n",
        "print(my_list * 3)"
      ],
      "execution_count": null,
      "outputs": []
    },
    {
      "cell_type": "code",
      "metadata": {
        "id": "3nQojCJ8EZy8"
      },
      "source": [
        "city = ['New York', 'Stockholm', 'Istanbul', 'Seoul', 'Sydney', 'Addis Ababa']\n",
        "city[1] = 'Melbourne'  # we assign 'Melbourne' to index 1\n",
        "print(city)   "
      ],
      "execution_count": null,
      "outputs": []
    },
    {
      "cell_type": "code",
      "metadata": {
        "id": "_jN9-p3mEZ1g"
      },
      "source": [
        "city = ['New York', 'Stockholm', 'Istanbul', 'Seoul', 'Sydney', 'Addis Ababa']\n",
        "city.append('Melbourne')  # we add 'Melbourne' to the end of list\n",
        "print(city)  \n"
      ],
      "execution_count": null,
      "outputs": []
    },
    {
      "cell_type": "code",
      "metadata": {
        "id": "BmZPWLeQFaoz"
      },
      "source": [
        "city = ['New York', 'Stockholm', 'Istanbul', 'Seoul', 'Sydney', 'Addis Ababa']\n",
        "city.insert(5, 'Melbourne')  # we insert 'Melbourne' as fifth element of list\n",
        "print(city)  "
      ],
      "execution_count": null,
      "outputs": []
    },
    {
      "cell_type": "code",
      "metadata": {
        "id": "GbPlJL5sFasA",
        "colab": {
          "base_uri": "https://localhost:8080/"
        },
        "outputId": "0e7d036c-3b01-4af7-b60f-0fa429cf18e5"
      },
      "source": [
        "city = ['New York', 'Stockholm', 'Istanbul', 'Seoul', 'Sydney', 'Addis Ababa']\n",
        "city[1] = 'Melbourne'  # we assign 'Melbourne' to index 1\n",
        "print(city)  "
      ],
      "execution_count": null,
      "outputs": [
        {
          "output_type": "stream",
          "name": "stdout",
          "text": [
            "['New York', 'Melbourne', 'Istanbul', 'Seoul', 'Sydney', 'Addis Ababa']\n"
          ]
        }
      ]
    },
    {
      "cell_type": "code",
      "metadata": {
        "id": "4j_2u1ZVFaut"
      },
      "source": [
        "# Python program to swap two variables\n",
        "\n",
        "x = 5\n",
        "y = 10\n",
        "\n",
        "# To take inputs from the user\n",
        "#x = input('Enter value of x: ')\n",
        "#y = input('Enter value of y: ')\n",
        "\n",
        "# create a temporary variable and swap the values\n",
        "temp = x\n",
        "x = y\n",
        "y = temp\n",
        "\n",
        "print('The value of x after swapping: {}'.format(x))\n",
        "print('The value of y after swapping: {}'.format(y))"
      ],
      "execution_count": null,
      "outputs": []
    },
    {
      "cell_type": "code",
      "metadata": {
        "id": "reEuegyVt3WT"
      },
      "source": [
        "x = 5\n",
        "y = 10\n",
        "x, y = y, x\n",
        "print('The value of x after swapping: {}'.format(x))\n",
        "print('The value of y after swapping: {}'.format(y))"
      ],
      "execution_count": null,
      "outputs": []
    },
    {
      "cell_type": "code",
      "metadata": {
        "id": "WnLmvJ9UvTY2",
        "colab": {
          "base_uri": "https://localhost:8080/"
        },
        "outputId": "fbc1e4eb-2903-49d8-cd1a-ba3a5f74579b"
      },
      "source": [
        "city_list = [['New York', 'London', 'Istanbul', 'Seoul', 'Sydney']]\n",
        "print(city_list[0][2])\n"
      ],
      "execution_count": null,
      "outputs": [
        {
          "output_type": "stream",
          "name": "stdout",
          "text": [
            "Istanbul\n"
          ]
        }
      ]
    },
    {
      "cell_type": "code",
      "metadata": {
        "id": "XieJ2uS5vTlj"
      },
      "source": [
        "city_list = [['New York', 'London', 'Istanbul', 'Seoul', 'Sydney']]\n",
        "print(city_list[0][2][3])"
      ],
      "execution_count": null,
      "outputs": []
    },
    {
      "cell_type": "code",
      "metadata": {
        "id": "YYAllAhYvTrv",
        "colab": {
          "base_uri": "https://localhost:8080/"
        },
        "outputId": "fd3c1845-d18c-47e5-f686-0ef18bd35406"
      },
      "source": [
        "city = ['New York', 'Istanbul']\n",
        "cclass = ['11/B','11/C', '10/A', '10/B', '10/C', '12/A', '12/B', '12/C']\n",
        "cclass.append(city)\n",
        "cclass.append('10/D')\n",
        "cclass.insert(3,'9/A')\n",
        "cclass[8]='12/D' \n",
        "print(cclass)"
      ],
      "execution_count": null,
      "outputs": [
        {
          "output_type": "stream",
          "name": "stdout",
          "text": [
            "['11/B', '11/C', '10/A', '9/A', '10/B', '10/C', '12/A', '12/B', '12/D', ['New York', 'Istanbul'], '10/D']\n"
          ]
        }
      ]
    },
    {
      "cell_type": "code",
      "metadata": {
        "id": "q9VeW7XyvTwD",
        "colab": {
          "base_uri": "https://localhost:8080/"
        },
        "outputId": "eae321f7-12f5-4867-d8a2-3f3f931ba279"
      },
      "source": [
        "fruits = ['apple', 'banana', 'watermelon', 'orange', 'mango', 'avocado']\n",
        "\n",
        "fruit_list = []\n",
        "fruit_list.insert(0, fruits)\n",
        "print(fruit_list[0][2][7])"
      ],
      "execution_count": null,
      "outputs": [
        {
          "output_type": "stream",
          "name": "stdout",
          "text": [
            "l\n"
          ]
        }
      ]
    },
    {
      "cell_type": "code",
      "metadata": {
        "id": "bm8rLSZVvT4E",
        "colab": {
          "base_uri": "https://localhost:8080/"
        },
        "outputId": "166cfdb8-cbbe-4e28-dd33-bec5ce955928"
      },
      "source": [
        "numbers = [1, 3, 5, 7, 9, 11, 13, 15, 17]\n",
        "print(numbers[2:5])"
      ],
      "execution_count": null,
      "outputs": [
        {
          "output_type": "stream",
          "name": "stdout",
          "text": [
            "[5, 7, 9]\n"
          ]
        }
      ]
    },
    {
      "cell_type": "code",
      "metadata": {
        "id": "68fvqRAvvT7u",
        "colab": {
          "base_uri": "https://localhost:8080/"
        },
        "outputId": "b9bd6db5-f188-42a2-f28d-96f810adc4ce"
      },
      "source": [
        "even_numbers = [2, 4, 6, 8, 10, 12, 14, 16, 18, 20]\n",
        "\n",
        "print(even_numbers[4:9])"
      ],
      "execution_count": null,
      "outputs": [
        {
          "output_type": "stream",
          "name": "stdout",
          "text": [
            "[10, 12, 14, 16, 18]\n"
          ]
        }
      ]
    },
    {
      "cell_type": "code",
      "metadata": {
        "id": "2GcL4cOfvUBd",
        "colab": {
          "base_uri": "https://localhost:8080/"
        },
        "outputId": "3ac20f2c-685d-4401-f46d-4202ea60e76c"
      },
      "source": [
        "print(len([[12, 34, 56]][0]))"
      ],
      "execution_count": null,
      "outputs": [
        {
          "output_type": "stream",
          "name": "stdout",
          "text": [
            "3\n"
          ]
        }
      ]
    },
    {
      "cell_type": "code",
      "metadata": {
        "colab": {
          "base_uri": "https://localhost:8080/"
        },
        "id": "IopIkp7divYQ",
        "outputId": "8251f2c2-7f42-430f-dab7-f95333044a97"
      },
      "source": [
        "print(len([[12, 34, 56]]))"
      ],
      "execution_count": null,
      "outputs": [
        {
          "output_type": "stream",
          "name": "stdout",
          "text": [
            "1\n"
          ]
        }
      ]
    },
    {
      "cell_type": "code",
      "metadata": {
        "colab": {
          "base_uri": "https://localhost:8080/"
        },
        "id": "N6gApHzkivbZ",
        "outputId": "9fca2e64-4b6f-4779-c390-678413f023fb"
      },
      "source": [
        "print(len([[12, 34, 56]][0]))"
      ],
      "execution_count": null,
      "outputs": [
        {
          "output_type": "stream",
          "name": "stdout",
          "text": [
            "3\n"
          ]
        }
      ]
    },
    {
      "cell_type": "code",
      "metadata": {
        "colab": {
          "base_uri": "https://localhost:8080/"
        },
        "id": "m2-ts4agiveI",
        "outputId": "b3a1591b-60c2-4e82-de8a-0ffa15112397"
      },
      "source": [
        "country = ['USA','Brasil', 'UK','Germany','Turkey']\n",
        "print(country)"
      ],
      "execution_count": null,
      "outputs": [
        {
          "output_type": "stream",
          "name": "stdout",
          "text": [
            "['USA', 'Brasil', 'UK', 'Germany', 'Turkey']\n"
          ]
        }
      ]
    },
    {
      "cell_type": "code",
      "metadata": {
        "colab": {
          "base_uri": "https://localhost:8080/"
        },
        "id": "tXMiVop-3yR6",
        "outputId": "0909daab-7b3d-4815-d833-f23a6bf2e2ab"
      },
      "source": [
        "mylist = ['yuı', 'jj',2020]\n",
        "print(mylist)"
      ],
      "execution_count": null,
      "outputs": [
        {
          "output_type": "stream",
          "name": "stdout",
          "text": [
            "['yuı', 'jj', 2020]\n"
          ]
        }
      ]
    },
    {
      "cell_type": "code",
      "metadata": {
        "colab": {
          "base_uri": "https://localhost:8080/"
        },
        "id": "4F7NVb8v3yU7",
        "outputId": "2ed05ac4-d654-4993-fb04-d7319caccca7"
      },
      "source": [
        "yil = \"2020 is hard\"\n",
        "mylist=(yil)\n",
        "print(mylist)\n",
        "\n"
      ],
      "execution_count": null,
      "outputs": [
        {
          "output_type": "stream",
          "name": "stdout",
          "text": [
            "2020 is hard\n"
          ]
        }
      ]
    },
    {
      "cell_type": "code",
      "metadata": {
        "colab": {
          "base_uri": "https://localhost:8080/"
        },
        "id": "6pgcnJZW3yYk",
        "outputId": "57e0c772-f7c3-4799-fcbe-b0ed9b4a1c81"
      },
      "source": [
        "yil_list_2 = [\"2020 is hard\"]\n",
        "print(yil_list_2)"
      ],
      "execution_count": null,
      "outputs": [
        {
          "output_type": "stream",
          "name": "stdout",
          "text": [
            "['2020 is hard']\n"
          ]
        }
      ]
    },
    {
      "cell_type": "code",
      "metadata": {
        "colab": {
          "base_uri": "https://localhost:8080/"
        },
        "id": "UqEO8X8g3ybi",
        "outputId": "15773cd6-84bf-4178-d397-66c47d96eb73"
      },
      "source": [
        "bos2 = []\n",
        "print(bos2)"
      ],
      "execution_count": null,
      "outputs": [
        {
          "output_type": "stream",
          "name": "stdout",
          "text": [
            "[]\n"
          ]
        }
      ]
    },
    {
      "cell_type": "code",
      "metadata": {
        "colab": {
          "base_uri": "https://localhost:8080/"
        },
        "id": "Di1wOEqDAOch",
        "outputId": "411a1389-8a51-4fbb-b695-55925419df0d"
      },
      "source": [
        "listem = []\n",
        "listem.append(11)\n",
        "print(listem)"
      ],
      "execution_count": null,
      "outputs": [
        {
          "output_type": "stream",
          "name": "stdout",
          "text": [
            "[11]\n"
          ]
        }
      ]
    },
    {
      "cell_type": "code",
      "metadata": {
        "colab": {
          "base_uri": "https://localhost:8080/"
        },
        "id": "3XuEd4Z6AOgJ",
        "outputId": "cc6249a7-0b00-452d-8628-6379936c8d25"
      },
      "source": [
        "kardeşler = [\"ali\",\"veli\"]\n",
        "kardeşler.append(\"osman\") # list is mutable\n",
        "kardeşler.append(\"hasan\")\n",
        "kardeşler.append(3.14)\n",
        "print(kardeşler)"
      ],
      "execution_count": null,
      "outputs": [
        {
          "output_type": "stream",
          "name": "stdout",
          "text": [
            "['ali', 'veli', 'osman', 'hasan', 3.14]\n"
          ]
        }
      ]
    },
    {
      "cell_type": "code",
      "metadata": {
        "colab": {
          "base_uri": "https://localhost:8080/"
        },
        "id": "BJF5ba7AAOnY",
        "outputId": "281afd75-4cb3-4477-8831-a8b48259ee60"
      },
      "source": [
        "kardeşler.pop(1)\n",
        "print(kardeşler)"
      ],
      "execution_count": null,
      "outputs": [
        {
          "output_type": "stream",
          "name": "stdout",
          "text": [
            "['ali', 'hasan']\n"
          ]
        }
      ]
    },
    {
      "cell_type": "code",
      "metadata": {
        "colab": {
          "base_uri": "https://localhost:8080/"
        },
        "id": "K1LRlknxE4O1",
        "outputId": "f6b0d159-72e5-42bb-9c21-3eb02d5faf71"
      },
      "source": [
        "my_list = [1,2,3,4]\n",
        "my_list.insert(4, 5)\n",
        "print(my_list)"
      ],
      "execution_count": null,
      "outputs": [
        {
          "output_type": "stream",
          "name": "stdout",
          "text": [
            "[1, 2, 3, 4, 5]\n"
          ]
        }
      ]
    },
    {
      "cell_type": "code",
      "metadata": {
        "colab": {
          "base_uri": "https://localhost:8080/"
        },
        "id": "P1ipUl5rE4SJ",
        "outputId": "801f5fd1-fc22-4fdf-852f-c09e45104e59"
      },
      "source": [
        "my_list = [1,2,3,4]\n",
        "my_list.insert(10, 5)\n",
        "print(my_list)"
      ],
      "execution_count": null,
      "outputs": [
        {
          "output_type": "stream",
          "name": "stdout",
          "text": [
            "[1, 2, 3, 4, 5]\n"
          ]
        }
      ]
    },
    {
      "cell_type": "code",
      "metadata": {
        "colab": {
          "base_uri": "https://localhost:8080/"
        },
        "id": "MD8hc__tE4Xg",
        "outputId": "ccda13ab-a261-4a29-9d0e-81f38bf29e4c"
      },
      "source": [
        "my_list = [1,2,3,4]\n",
        "my_list.sort(reverse=True)\n",
        "print(my_list)"
      ],
      "execution_count": null,
      "outputs": [
        {
          "output_type": "stream",
          "name": "stdout",
          "text": [
            "[4, 3, 2, 1]\n"
          ]
        }
      ]
    },
    {
      "cell_type": "code",
      "metadata": {
        "colab": {
          "base_uri": "https://localhost:8080/"
        },
        "id": "aw8iaje2E4bb",
        "outputId": "55168d73-459f-4b67-c826-44caaf310c51"
      },
      "source": [
        "ord(\"A\"), ord(\"B\"), ord(\"a\"), ord(\"b\")"
      ],
      "execution_count": null,
      "outputs": [
        {
          "output_type": "execute_result",
          "data": {
            "text/plain": [
              "(65, 66, 97, 98)"
            ]
          },
          "metadata": {},
          "execution_count": 9
        }
      ]
    },
    {
      "cell_type": "code",
      "metadata": {
        "colab": {
          "base_uri": "https://localhost:8080/"
        },
        "id": "V0fsZXRTE4fH",
        "outputId": "296b1295-c5d2-4aca-efd9-d279cb481fab"
      },
      "source": [
        "list_3 = [True, False]\n",
        "list_3.sort()\n",
        "print(list_3)"
      ],
      "execution_count": null,
      "outputs": [
        {
          "output_type": "stream",
          "name": "stdout",
          "text": [
            "[False, True]\n"
          ]
        }
      ]
    },
    {
      "cell_type": "code",
      "metadata": {
        "colab": {
          "base_uri": "https://localhost:8080/"
        },
        "id": "2EHmqTHzAOrL",
        "outputId": "7b621837-0860-4d55-a83c-6545152c5758"
      },
      "source": [
        "kardeşler.insert(1, 'deli')\n",
        "print(kardeşler)"
      ],
      "execution_count": null,
      "outputs": [
        {
          "output_type": "stream",
          "name": "stdout",
          "text": [
            "['ali', 'deli', 'hasan']\n"
          ]
        }
      ]
    },
    {
      "cell_type": "code",
      "metadata": {
        "colab": {
          "base_uri": "https://localhost:8080/"
        },
        "id": "CDhJ1HeAUIxf",
        "outputId": "36516a9a-7615-4684-d8f2-dcd5a9c3af42"
      },
      "source": [
        "list_4 = [44, 45, -1]\n",
        "list_4.sort()\n",
        "print(list_4)"
      ],
      "execution_count": null,
      "outputs": [
        {
          "output_type": "stream",
          "name": "stdout",
          "text": [
            "[-1, 44, 45]\n"
          ]
        }
      ]
    },
    {
      "cell_type": "code",
      "metadata": {
        "colab": {
          "base_uri": "https://localhost:8080/",
          "height": 35
        },
        "id": "Lutfa939UI1G",
        "outputId": "91673d0e-8206-4640-85f9-2557163ab364"
      },
      "source": [
        "chr(152)   # aski kod "
      ],
      "execution_count": null,
      "outputs": [
        {
          "output_type": "execute_result",
          "data": {
            "application/vnd.google.colaboratory.intrinsic+json": {
              "type": "string"
            },
            "text/plain": [
              "'\\x98'"
            ]
          },
          "metadata": {},
          "execution_count": 51
        }
      ]
    },
    {
      "cell_type": "code",
      "metadata": {
        "colab": {
          "base_uri": "https://localhost:8080/"
        },
        "id": "QLvHFSiYUrWZ",
        "outputId": "ae8bd791-73df-4561-99d8-b56af09c9ef1"
      },
      "source": [
        "dolar = float(input(\"1 $ kaç TL? =   \"))\n",
        "if dolar >= 11.00 :\n",
        "    print(\"dolar satmam lazım.\")\n",
        "else: \n",
        "    print(\"Beklemem lazım.\")"
      ],
      "execution_count": null,
      "outputs": [
        {
          "output_type": "stream",
          "name": "stdout",
          "text": [
            "1 $ kaç TL? =   14\n",
            "dolar satmam lazım.\n"
          ]
        }
      ]
    },
    {
      "cell_type": "code",
      "metadata": {
        "colab": {
          "base_uri": "https://localhost:8080/"
        },
        "id": "zSHpaGU4UreG",
        "outputId": "4eb964ec-a97c-4e8f-af0b-ad3b42dad20d"
      },
      "source": [
        ">>> list(range(10))\n",
        "[0, 1, 2, 3, 4, 5, 6, 7, 8, 9]\n",
        ">>> list(range(1, 11))\n",
        "[1, 2, 3, 4, 5, 6, 7, 8, 9, 10]\n",
        ">>> list(range(0, 30, 5))\n",
        "[0, 5, 10, 15, 20, 25]\n",
        ">>> list(range(0, 10, 3))\n",
        "[0, 3, 6, 9]\n",
        ">>> list(range(0, -10, -1))\n",
        "[0, -1, -2, -3, -4, -5, -6, -7, -8, -9]\n",
        ">>> list(range(0))\n",
        "[]\n",
        ">>> list(range(1, 0))\n",
        "[]"
      ],
      "execution_count": null,
      "outputs": [
        {
          "output_type": "execute_result",
          "data": {
            "text/plain": [
              "[]"
            ]
          },
          "metadata": {},
          "execution_count": 51
        }
      ]
    },
    {
      "cell_type": "code",
      "metadata": {
        "id": "2h-7DkemUriN"
      },
      "source": [
        "#Begin\n",
        "INPUT hours, rate\n",
        "IF hours < 40\n",
        "THEN\n",
        "    pay = hours * rate\n",
        "ELSE \n",
        "    pay = 40 * rate + (hours - 40) * rate *1.5\n",
        "OUTPUT pay\n",
        "#End"
      ],
      "execution_count": null,
      "outputs": []
    },
    {
      "cell_type": "code",
      "metadata": {
        "id": "rj1ZIdxnUrqG",
        "colab": {
          "base_uri": "https://localhost:8080/"
        },
        "outputId": "7fb1e5d9-746d-4bbe-9861-e40677812233"
      },
      "source": [
        "#Lists are mutable i.e they can be edited.\n",
        "#Lists are slower than tuples.   Syntax: \n",
        "list_1 = [True, 'Space', 20]\n",
        "#TUPLEs :\n",
        "#Tuples are immutable (tuples are lists which can’t be edited).\n",
        "#Tuples are faster than list.  Syntax: \n",
        "tup_1 = (True, 'Space', 20)\n",
        "print(list_1)\n",
        "print(tup_1)"
      ],
      "execution_count": null,
      "outputs": [
        {
          "output_type": "stream",
          "name": "stdout",
          "text": [
            "[True, 'Space', 20]\n",
            "(True, 'Space', 20)\n"
          ]
        }
      ]
    },
    {
      "cell_type": "code",
      "metadata": {
        "id": "dSpbfil5UI7N",
        "colab": {
          "base_uri": "https://localhost:8080/"
        },
        "outputId": "f05029cc-4eeb-47b5-ebf7-b9dc8ce0c6b2"
      },
      "source": [
        "my_mix_tuple = (0, 'bird', 3.14, True)\n",
        "print(my_mix_tuple)\n",
        "print(len(my_mix_tuple))"
      ],
      "execution_count": null,
      "outputs": [
        {
          "output_type": "stream",
          "name": "stdout",
          "text": [
            "(0, 'bird', 3.14, True)\n",
            "4\n"
          ]
        }
      ]
    },
    {
      "cell_type": "code",
      "metadata": {
        "colab": {
          "base_uri": "https://localhost:8080/"
        },
        "id": "R7qm-UAXhaVY",
        "outputId": "16b9f069-3e3a-4f88-ce16-7855d6295dcf"
      },
      "source": [
        "a = 3\n",
        "t1 = a == 3         #sayı 3 mü?\n",
        "t2 = a < 4          #sayı 4'ten küçük mü?\n",
        "t3 = a % 2 == 1     #sayı bir tek sayı mı?\n",
        "all([t1, t2, t3])"
      ],
      "execution_count": null,
      "outputs": [
        {
          "output_type": "execute_result",
          "data": {
            "text/plain": [
              "True"
            ]
          },
          "metadata": {},
          "execution_count": 15
        }
      ]
    },
    {
      "cell_type": "code",
      "metadata": {
        "colab": {
          "base_uri": "https://localhost:8080/",
          "height": 72
        },
        "id": "JSKSxKX7haYq",
        "outputId": "5d0dd3f6-011a-4baa-c8bb-c9c35b2c1e54"
      },
      "source": [
        "liste = ['elma', 'armut', 'erik']\n",
        "temsil = ascii(liste)\n",
        "print(temsil)\n",
        "print(type(temsil))\n",
        "temsil[:9]"
      ],
      "execution_count": null,
      "outputs": [
        {
          "output_type": "stream",
          "name": "stdout",
          "text": [
            "['elma', 'armut', 'erik']\n",
            "<class 'str'>\n"
          ]
        },
        {
          "output_type": "execute_result",
          "data": {
            "application/vnd.google.colaboratory.intrinsic+json": {
              "type": "string"
            },
            "text/plain": [
              "\"['elma', \""
            ]
          },
          "metadata": {},
          "execution_count": 21
        }
      ]
    },
    {
      "cell_type": "code",
      "metadata": {
        "colab": {
          "base_uri": "https://localhost:8080/"
        },
        "id": "jCMIifLqhacL",
        "outputId": "898759af-c819-4642-e97d-9ef5f11b6dcc"
      },
      "source": [
        "bayt = bytes('kadın', encoding='utf-8')\n",
        "kardiz = str(bayt, encoding='ascii', errors='ignore')\n",
        "print(kardiz)\n",
        "print(bayt)"
      ],
      "execution_count": null,
      "outputs": [
        {
          "output_type": "stream",
          "name": "stdout",
          "text": [
            "kadn\n",
            "b'kad\\xc4\\xb1n'\n"
          ]
        }
      ]
    },
    {
      "cell_type": "code",
      "metadata": {
        "colab": {
          "base_uri": "https://localhost:8080/"
        },
        "id": "Hwx9wtmbn-qo",
        "outputId": "d550910a-a1d4-4783-e2c8-0fee529d222b"
      },
      "source": [
        "l = [1, 2, 3]\n",
        "sum(l, 10)"
      ],
      "execution_count": null,
      "outputs": [
        {
          "output_type": "execute_result",
          "data": {
            "text/plain": [
              "16"
            ]
          },
          "metadata": {},
          "execution_count": 30
        }
      ]
    },
    {
      "cell_type": "code",
      "metadata": {
        "colab": {
          "base_uri": "https://localhost:8080/"
        },
        "id": "ag1cc-5Kn-ty",
        "outputId": "82ddedbd-2c05-4a34-916b-4785be689d91"
      },
      "source": [
        "callable(ord)"
      ],
      "execution_count": null,
      "outputs": [
        {
          "output_type": "execute_result",
          "data": {
            "text/plain": [
              "True"
            ]
          },
          "metadata": {},
          "execution_count": 9
        }
      ]
    },
    {
      "cell_type": "code",
      "metadata": {
        "colab": {
          "base_uri": "https://localhost:8080/",
          "height": 35
        },
        "id": "UTnBeEJ4n-x4",
        "outputId": "eb3e216c-b207-4d3f-ac16-991c315f603d"
      },
      "source": [
        "string = \"ali\"\n",
        "string = string.upper()\n",
        "string"
      ],
      "execution_count": null,
      "outputs": [
        {
          "output_type": "execute_result",
          "data": {
            "application/vnd.google.colaboratory.intrinsic+json": {
              "type": "string"
            },
            "text/plain": [
              "'ALI'"
            ]
          },
          "metadata": {},
          "execution_count": 8
        }
      ]
    },
    {
      "cell_type": "code",
      "metadata": {
        "colab": {
          "base_uri": "https://localhost:8080/"
        },
        "id": "C3alOn35n-1W",
        "outputId": "445ac168-ddaa-4fd2-a387-3b716190a9a0"
      },
      "source": [
        "print(\"clarusway\" + str(\"2020\"))"
      ],
      "execution_count": null,
      "outputs": [
        {
          "output_type": "stream",
          "name": "stdout",
          "text": [
            "clarusway2020\n"
          ]
        }
      ]
    },
    {
      "cell_type": "code",
      "metadata": {
        "colab": {
          "base_uri": "https://localhost:8080/"
        },
        "id": "HlPsr1221wQv",
        "outputId": "38b818df-e498-4480-e5af-a157fffe23e7"
      },
      "source": [
        "sayılar = range(1, 11)\n",
        "print(list(sayılar))\n",
        "set(sayılar)"
      ],
      "execution_count": null,
      "outputs": [
        {
          "output_type": "stream",
          "name": "stdout",
          "text": [
            "[1, 2, 3, 4, 5, 6, 7, 8, 9, 10]\n"
          ]
        },
        {
          "output_type": "execute_result",
          "data": {
            "text/plain": [
              "{1, 2, 3, 4, 5, 6, 7, 8, 9, 10}"
            ]
          },
          "metadata": {},
          "execution_count": 3
        }
      ]
    },
    {
      "cell_type": "code",
      "metadata": {
        "colab": {
          "base_uri": "https://localhost:8080/",
          "height": 35
        },
        "id": "l9sgqTfh1wU3",
        "outputId": "8cc83a5b-0331-4f93-9419-ac1928358940"
      },
      "source": [
        "mix_tuple = ('11', 11, [2, 'two', ('six', 6)], (5, 'fair'))\n",
        "mix_tuple[2][2][0]"
      ],
      "execution_count": null,
      "outputs": [
        {
          "output_type": "execute_result",
          "data": {
            "application/vnd.google.colaboratory.intrinsic+json": {
              "type": "string"
            },
            "text/plain": [
              "'six'"
            ]
          },
          "metadata": {},
          "execution_count": 26
        }
      ]
    },
    {
      "cell_type": "code",
      "metadata": {
        "colab": {
          "base_uri": "https://localhost:8080/"
        },
        "id": "Xxr7c8oc1wXV",
        "outputId": "d8423f8a-75e3-4ea5-bfd6-1bd765edd485"
      },
      "source": [
        "mix_tuple[2].append(False)\n",
        "print(mix_tuple)"
      ],
      "execution_count": null,
      "outputs": [
        {
          "output_type": "stream",
          "name": "stdout",
          "text": [
            "('11', 11, [2, 'two', ('six', 6), False], (5, 'fair'))\n"
          ]
        }
      ]
    },
    {
      "cell_type": "code",
      "metadata": {
        "colab": {
          "base_uri": "https://localhost:8080/",
          "height": 35
        },
        "id": "qdY52QTX1wah",
        "outputId": "470ee499-46c1-4853-9813-84492ed79012"
      },
      "source": [
        "mix_tuple = ('11', 11, [2, 'two', ('six', 6)], (5, 'fair'))\n",
        "#mix_tuple[-1][-1]\n",
        "mix_tuple[3][1]"
      ],
      "execution_count": null,
      "outputs": [
        {
          "output_type": "execute_result",
          "data": {
            "application/vnd.google.colaboratory.intrinsic+json": {
              "type": "string"
            },
            "text/plain": [
              "'fair'"
            ]
          },
          "metadata": {},
          "execution_count": 15
        }
      ]
    },
    {
      "cell_type": "code",
      "metadata": {
        "colab": {
          "base_uri": "https://localhost:8080/"
        },
        "id": "KVMJYPGP1wec",
        "outputId": "f09c72e6-ae45-409d-8995-77c71d8733e3"
      },
      "source": [
        "first_dict = {1: \"one\", \"two\": 2, False: [1, 2, 3], 1.5:(\"one\", \"two\"), (1,2):\"clrsw\"}\n",
        "print(first_dict)"
      ],
      "execution_count": null,
      "outputs": [
        {
          "output_type": "stream",
          "name": "stdout",
          "text": [
            "{1: 'one', 'two': 2, False: [1, 2, 3], 1.5: ('one', 'two'), (1, 2): 'clrsw'}\n"
          ]
        }
      ]
    },
    {
      "cell_type": "code",
      "metadata": {
        "colab": {
          "base_uri": "https://localhost:8080/"
        },
        "id": "nTwkMir_1whg",
        "outputId": "520db150-3045-429b-c2e5-67d81adc4352"
      },
      "source": [
        "second_dict = {'one':[1, 2], \"two\": 2, False: [1, 2, 3], 1.5:(\"one\", \"two\"), (1,2):\"clrsw\"}\n",
        "print(second_dict)"
      ],
      "execution_count": null,
      "outputs": [
        {
          "output_type": "stream",
          "name": "stdout",
          "text": [
            "{'one': [1, 2], 'two': 2, False: [1, 2, 3], 1.5: ('one', 'two'), (1, 2): 'clrsw'}\n"
          ]
        }
      ]
    },
    {
      "cell_type": "code",
      "metadata": {
        "colab": {
          "base_uri": "https://localhost:8080/"
        },
        "id": "tJbT9RwN-YC3",
        "outputId": "45ea5668-ed73-4687-f674-264cfde4247b"
      },
      "source": [
        "dict(isim =\"ali veli\")"
      ],
      "execution_count": null,
      "outputs": [
        {
          "output_type": "execute_result",
          "data": {
            "text/plain": [
              "{'isim': 'ali veli'}"
            ]
          },
          "metadata": {},
          "execution_count": 21
        }
      ]
    },
    {
      "cell_type": "code",
      "metadata": {
        "colab": {
          "base_uri": "https://localhost:8080/"
        },
        "id": "xugJ1RCiKDgB",
        "outputId": "67daf4e5-129d-4688-f084-443af7ff3bd4"
      },
      "source": [
        "dict(name1 = \"Fatih\", name2 = \"Nurbanu\", name3 = \"ali\", name4 = \"veli\")"
      ],
      "execution_count": null,
      "outputs": [
        {
          "output_type": "execute_result",
          "data": {
            "text/plain": [
              "{'name1': 'Fatih', 'name2': 'Nurbanu', 'name3': 'ali', 'name4': 'veli'}"
            ]
          },
          "metadata": {},
          "execution_count": 40
        }
      ]
    },
    {
      "cell_type": "code",
      "metadata": {
        "colab": {
          "base_uri": "https://localhost:8080/"
        },
        "id": "cDLNj_nB-YGA",
        "outputId": "1a009d98-3af0-4881-eb3e-ba50a0412f81"
      },
      "source": [
        "dict(sayılar= [1,2,3], harfler= {1:'bir'})"
      ],
      "execution_count": null,
      "outputs": [
        {
          "output_type": "execute_result",
          "data": {
            "text/plain": [
              "{'harfler': {1: 'bir'}, 'sayılar': [1, 2, 3]}"
            ]
          },
          "metadata": {},
          "execution_count": 24
        }
      ]
    },
    {
      "cell_type": "code",
      "metadata": {
        "colab": {
          "base_uri": "https://localhost:8080/"
        },
        "id": "fmpRTd4S-YIV",
        "outputId": "d4cae83d-da00-425a-9b92-cb180e4d7dfb"
      },
      "source": [
        "family ={'name1' : \"Fatih\",\n",
        "         'name2' : \"osman\",\n",
        "         'name3' : \"ahmet\",         \n",
        "         }\n",
        "family['name4'] = 'Yurdagül'\n",
        "print(family)"
      ],
      "execution_count": null,
      "outputs": [
        {
          "output_type": "stream",
          "name": "stdout",
          "text": [
            "{'name1': 'Fatih', 'name2': 'osman', 'name3': 'ahmet', 'name4': 'Yurdagül'}\n"
          ]
        }
      ]
    },
    {
      "cell_type": "code",
      "metadata": {
        "colab": {
          "base_uri": "https://localhost:8080/"
        },
        "id": "Ys96I7AN-YLr",
        "outputId": "9e817e81-4d48-4ec0-ddb8-c96fb929521e"
      },
      "source": [
        "dict_by_dict = dict(animal='dog', planet='neptun', number=40, pi=3.14, is_good=True)\n",
        "print(dict_by_dict)"
      ],
      "execution_count": null,
      "outputs": [
        {
          "output_type": "stream",
          "name": "stdout",
          "text": [
            "{'animal': 'dog', 'planet': 'neptun', 'number': 40, 'pi': 3.14, 'is_good': True}\n"
          ]
        }
      ]
    },
    {
      "cell_type": "code",
      "metadata": {
        "colab": {
          "base_uri": "https://localhost:8080/",
          "height": 35
        },
        "id": "IYfrRZoG-YQw",
        "outputId": "f81a7328-1cca-4f39-d177-cad3ceafb9ce"
      },
      "source": [
        "bir = \"one\"\n",
        "bir"
      ],
      "execution_count": null,
      "outputs": [
        {
          "output_type": "execute_result",
          "data": {
            "application/vnd.google.colaboratory.intrinsic+json": {
              "type": "string"
            },
            "text/plain": [
              "'one'"
            ]
          },
          "metadata": {},
          "execution_count": 31
        }
      ]
    },
    {
      "cell_type": "code",
      "metadata": {
        "id": "ZLH6RBzJHoAA"
      },
      "source": [
        ""
      ],
      "execution_count": null,
      "outputs": []
    },
    {
      "cell_type": "code",
      "metadata": {
        "id": "NTvuDDUXHoCt"
      },
      "source": [
        "sehir = \"İstanbul\"\n",
        "isim = \"Yasemin\"\n",
        "Nüfus = 1000\n",
        "Yağmurlumu = False"
      ],
      "execution_count": null,
      "outputs": []
    },
    {
      "cell_type": "code",
      "metadata": {
        "colab": {
          "base_uri": "https://localhost:8080/"
        },
        "id": "xoKZE2mzHoFR",
        "outputId": "3f3df93a-cddc-4de8-9a58-8157993de29d"
      },
      "source": [
        "benim = {1 : sehir, isim : \"bayan\", \"nüfusum\" : Nüfus, \"hava_yağmurlu_mu\" : Yağmurlumu}\n",
        "benim"
      ],
      "execution_count": null,
      "outputs": [
        {
          "output_type": "execute_result",
          "data": {
            "text/plain": [
              "{1: 'İstanbul', 'Yasemin': 'bayan', 'hava_yağmurlu_mu': False, 'nüfusum': 1000}"
            ]
          },
          "metadata": {},
          "execution_count": 38
        }
      ]
    },
    {
      "cell_type": "code",
      "metadata": {
        "colab": {
          "base_uri": "https://localhost:8080/",
          "height": 35
        },
        "id": "oj_qEIKrHoIT",
        "outputId": "3aa6587c-1f89-45c0-f31a-a867770900e5"
      },
      "source": [
        "benim[\"Yasemin\"]"
      ],
      "execution_count": null,
      "outputs": [
        {
          "output_type": "execute_result",
          "data": {
            "application/vnd.google.colaboratory.intrinsic+json": {
              "type": "string"
            },
            "text/plain": [
              "'bayan'"
            ]
          },
          "metadata": {},
          "execution_count": 39
        }
      ]
    },
    {
      "cell_type": "code",
      "metadata": {
        "colab": {
          "base_uri": "https://localhost:8080/"
        },
        "id": "H9fuQYSHJ-lF",
        "outputId": "34018923-54e4-4040-f610-e49f75f99c31"
      },
      "source": [
        "benim.update({\"a\" : 1, \"b\" : 2})\n",
        "benim"
      ],
      "execution_count": null,
      "outputs": [
        {
          "output_type": "execute_result",
          "data": {
            "text/plain": [
              "{1: 'İstanbul',\n",
              " 'Yasemin': 'bayan',\n",
              " 'a': 1,\n",
              " 'b': 2,\n",
              " 'hava_yağmurlu_mu': False,\n",
              " 'nüfusum': 1000}"
            ]
          },
          "metadata": {},
          "execution_count": 41
        }
      ]
    },
    {
      "cell_type": "code",
      "metadata": {
        "colab": {
          "base_uri": "https://localhost:8080/"
        },
        "id": "dCkOAzfa-YU1",
        "outputId": "e861e3a5-4394-49c9-9dd9-81a6f7ec9c5b"
      },
      "source": [
        "#The most frequent element\n",
        "numbers = [-1, 3, 7, 4, 3, 0, 3, 16, 3, 7, 0, 0, 1]\n",
        "max(numbers)"
      ],
      "execution_count": null,
      "outputs": [
        {
          "output_type": "execute_result",
          "data": {
            "text/plain": [
              "16"
            ]
          },
          "metadata": {},
          "execution_count": 42
        }
      ]
    },
    {
      "cell_type": "code",
      "metadata": {
        "colab": {
          "base_uri": "https://localhost:8080/"
        },
        "id": "-x-2ajYpSIaE",
        "outputId": "3a10167a-d864-4986-b732-6b94e1f96864"
      },
      "source": [
        "max(2,3,5)"
      ],
      "execution_count": null,
      "outputs": [
        {
          "output_type": "execute_result",
          "data": {
            "text/plain": [
              "5"
            ]
          },
          "metadata": {},
          "execution_count": 43
        }
      ]
    },
    {
      "cell_type": "code",
      "metadata": {
        "colab": {
          "base_uri": "https://localhost:8080/",
          "height": 35
        },
        "id": "hQlVf8aySIcW",
        "outputId": "9cca7769-3a5b-4f0f-98a2-ccf365352ddf"
      },
      "source": [
        "empty = []\n",
        "max(empty, default=\"boş\")"
      ],
      "execution_count": null,
      "outputs": [
        {
          "output_type": "execute_result",
          "data": {
            "application/vnd.google.colaboratory.intrinsic+json": {
              "type": "string"
            },
            "text/plain": [
              "'boş'"
            ]
          },
          "metadata": {},
          "execution_count": 44
        }
      ]
    },
    {
      "cell_type": "code",
      "metadata": {
        "colab": {
          "base_uri": "https://localhost:8080/"
        },
        "id": "GgDP_DyzSIfD",
        "outputId": "107154a1-a936-4c11-e62c-292bc88baa65"
      },
      "source": [
        "sequence = [1, 1, 1, 1, 2, 2, 2, 3, 3,4]\n",
        "print(sequence)"
      ],
      "execution_count": null,
      "outputs": [
        {
          "output_type": "stream",
          "name": "stdout",
          "text": [
            "[1, 1, 1, 1, 2, 2, 2, 3, 3, 4]\n"
          ]
        }
      ]
    },
    {
      "cell_type": "code",
      "metadata": {
        "colab": {
          "base_uri": "https://localhost:8080/"
        },
        "id": "jBFhqh83Uspz",
        "outputId": "69b518b9-dc29-4fe8-94ec-39eeeea66f1b"
      },
      "source": [
        "max(sequence)"
      ],
      "execution_count": null,
      "outputs": [
        {
          "output_type": "execute_result",
          "data": {
            "text/plain": [
              "4"
            ]
          },
          "metadata": {},
          "execution_count": 48
        }
      ]
    },
    {
      "cell_type": "code",
      "metadata": {
        "colab": {
          "base_uri": "https://localhost:8080/"
        },
        "id": "uKbT4OWnUssm",
        "outputId": "110acac2-bd72-462b-ee4b-8244113aa7dd"
      },
      "source": [
        "sequence.count(3)"
      ],
      "execution_count": null,
      "outputs": [
        {
          "output_type": "execute_result",
          "data": {
            "text/plain": [
              "2"
            ]
          },
          "metadata": {},
          "execution_count": 49
        }
      ]
    },
    {
      "cell_type": "code",
      "metadata": {
        "colab": {
          "base_uri": "https://localhost:8080/"
        },
        "id": "IifA_2D9SIiF",
        "outputId": "b8d3f2d9-31aa-4fc8-f314-94c5d65df701"
      },
      "source": [
        "sequence.count(2)"
      ],
      "execution_count": null,
      "outputs": [
        {
          "output_type": "execute_result",
          "data": {
            "text/plain": [
              "3"
            ]
          },
          "metadata": {},
          "execution_count": 50
        }
      ]
    },
    {
      "cell_type": "code",
      "metadata": {
        "colab": {
          "base_uri": "https://localhost:8080/"
        },
        "id": "OhCjQhNKSHoD",
        "outputId": "040c9515-440e-45a3-f0e3-ddd9d3b0b599"
      },
      "source": [
        "sequence.count(4)"
      ],
      "execution_count": null,
      "outputs": [
        {
          "output_type": "execute_result",
          "data": {
            "text/plain": [
              "1"
            ]
          },
          "metadata": {},
          "execution_count": 51
        }
      ]
    },
    {
      "cell_type": "code",
      "metadata": {
        "colab": {
          "base_uri": "https://localhost:8080/"
        },
        "id": "lTFCuT_0SHqz",
        "outputId": "59c72e6f-e04b-4e2d-c70e-941af48d6d9d"
      },
      "source": [
        "numbers"
      ],
      "execution_count": null,
      "outputs": [
        {
          "output_type": "execute_result",
          "data": {
            "text/plain": [
              "[-1, 3, 7, 4, 3, 0, 3, 16, 3, 7, 0, 0, 1]"
            ]
          },
          "metadata": {},
          "execution_count": 52
        }
      ]
    },
    {
      "cell_type": "code",
      "metadata": {
        "colab": {
          "base_uri": "https://localhost:8080/"
        },
        "id": "2RWSm9KJSHtX",
        "outputId": "d0d35208-65a4-4777-b021-ff287c4b4d5b"
      },
      "source": [
        "max(numbers)"
      ],
      "execution_count": null,
      "outputs": [
        {
          "output_type": "execute_result",
          "data": {
            "text/plain": [
              "16"
            ]
          },
          "metadata": {},
          "execution_count": 53
        }
      ]
    },
    {
      "cell_type": "code",
      "metadata": {
        "colab": {
          "base_uri": "https://localhost:8080/"
        },
        "id": "9VpLf6BkSHvh",
        "outputId": "3cdfb339-04cb-4393-d5d4-76b5a8b9058a"
      },
      "source": [
        "numbers.count(16)"
      ],
      "execution_count": null,
      "outputs": [
        {
          "output_type": "execute_result",
          "data": {
            "text/plain": [
              "1"
            ]
          },
          "metadata": {},
          "execution_count": 54
        }
      ]
    },
    {
      "cell_type": "code",
      "metadata": {
        "colab": {
          "base_uri": "https://localhost:8080/"
        },
        "id": "pGjZSEhVV2Y3",
        "outputId": "f1dcbace-2b1f-4ee7-a4d1-edb7c95bc984"
      },
      "source": [
        "max(numbers, key = numbers.count)"
      ],
      "execution_count": null,
      "outputs": [
        {
          "output_type": "execute_result",
          "data": {
            "text/plain": [
              "3"
            ]
          },
          "metadata": {},
          "execution_count": 56
        }
      ]
    },
    {
      "cell_type": "code",
      "metadata": {
        "id": "zwHjA7u4V2cJ"
      },
      "source": [
        "the_most = max(numbers, key = numbers.count)"
      ],
      "execution_count": null,
      "outputs": []
    },
    {
      "cell_type": "code",
      "metadata": {
        "colab": {
          "base_uri": "https://localhost:8080/"
        },
        "id": "RJHlLUHnV2nm",
        "outputId": "36ae2275-8873-4d2d-837c-112609180efd"
      },
      "source": [
        "numbers.count(the_most)"
      ],
      "execution_count": null,
      "outputs": [
        {
          "output_type": "execute_result",
          "data": {
            "text/plain": [
              "4"
            ]
          },
          "metadata": {},
          "execution_count": 62
        }
      ]
    },
    {
      "cell_type": "code",
      "metadata": {
        "colab": {
          "base_uri": "https://localhost:8080/"
        },
        "id": "JX2B1XqmV2wL",
        "outputId": "53e60d3d-e775-46c9-a832-997a55d9a991"
      },
      "source": [
        "max(5, 6, 5, 3, 6)"
      ],
      "execution_count": null,
      "outputs": [
        {
          "output_type": "execute_result",
          "data": {
            "text/plain": [
              "6"
            ]
          },
          "metadata": {},
          "execution_count": 63
        }
      ]
    },
    {
      "cell_type": "code",
      "metadata": {
        "id": "aEDS_DSOV2zw"
      },
      "source": [
        "sehirler = [\"istanbul\", \"ağrı\", \"ankara\", \"van\"]"
      ],
      "execution_count": null,
      "outputs": []
    },
    {
      "cell_type": "code",
      "metadata": {
        "colab": {
          "base_uri": "https://localhost:8080/"
        },
        "id": "xHX5cIfiYeUC",
        "outputId": "d8d5d416-c7d1-45db-c8fc-55d8f6f71459"
      },
      "source": [
        "sorted(sehirler) # sorted by ascending ASCII"
      ],
      "execution_count": null,
      "outputs": [
        {
          "output_type": "execute_result",
          "data": {
            "text/plain": [
              "['ankara', 'ağrı', 'istanbul', 'van']"
            ]
          },
          "metadata": {},
          "execution_count": 79
        }
      ]
    },
    {
      "cell_type": "code",
      "metadata": {
        "colab": {
          "base_uri": "https://localhost:8080/"
        },
        "id": "qB_KhtDuYebQ",
        "outputId": "a2361482-80dd-40bc-e769-00858987dc84"
      },
      "source": [
        "sorted(sehirler, key=len) # sorted by length which is defined with key parameter"
      ],
      "execution_count": null,
      "outputs": [
        {
          "output_type": "execute_result",
          "data": {
            "text/plain": [
              "['van', 'ağrı', 'ankara', 'istanbul']"
            ]
          },
          "metadata": {},
          "execution_count": 85
        }
      ]
    },
    {
      "cell_type": "code",
      "metadata": {
        "colab": {
          "base_uri": "https://localhost:8080/"
        },
        "id": "Yn7amUZLYeij",
        "outputId": "336b4121-119a-4b91-e650-1551125bc87a"
      },
      "source": [
        "sorted(sehirler, key=len, reverse = True) #sorted by reverse with descending "
      ],
      "execution_count": null,
      "outputs": [
        {
          "output_type": "execute_result",
          "data": {
            "text/plain": [
              "['istanbul', 'ankara', 'ağrı', 'van']"
            ]
          },
          "metadata": {},
          "execution_count": 86
        }
      ]
    },
    {
      "cell_type": "code",
      "metadata": {
        "id": "htu-HITzYemQ"
      },
      "source": [
        ""
      ],
      "execution_count": null,
      "outputs": []
    },
    {
      "cell_type": "code",
      "metadata": {
        "colab": {
          "base_uri": "https://localhost:8080/"
        },
        "id": "id6CDILjtmAU",
        "outputId": "7dea4917-b0a9-47b3-a5de-4668e7a4c222"
      },
      "source": [
        "print(list(range(1,11)), end=', '); print(tuple(range(1,11)), end=', '); print(set(range(1,11)))\n",
        "print()"
      ],
      "execution_count": null,
      "outputs": [
        {
          "output_type": "stream",
          "name": "stdout",
          "text": [
            "[1, 2, 3, 4, 5, 6, 7, 8, 9, 10], (1, 2, 3, 4, 5, 6, 7, 8, 9, 10), {1, 2, 3, 4, 5, 6, 7, 8, 9, 10}\n",
            "\n"
          ]
        }
      ]
    },
    {
      "cell_type": "code",
      "metadata": {
        "colab": {
          "base_uri": "https://localhost:8080/"
        },
        "id": "bS2vEzeqtmFO",
        "outputId": "ed78c557-39a2-4491-d4a5-becbc241434f"
      },
      "source": [
        "print(\"Hello\".replace(\"l\", \"e\"))                # REPLACE METHOD UYGULAMASI\n",
        "print(\"Hello\".replace(\"l\", \"e\", 1))\n",
        "print(\"Hello\".replace(\"l\", \"e\", 3))\n",
        "print(\"Hello\".replace(\"l\", \"\"))\n",
        "print(\"Hello\".replace(\"l\", \"e\"))"
      ],
      "execution_count": null,
      "outputs": [
        {
          "output_type": "stream",
          "name": "stdout",
          "text": [
            "Heeeo\n",
            "Heelo\n",
            "Heeeo\n",
            "Heo\n",
            "Heeeo\n"
          ]
        }
      ]
    },
    {
      "cell_type": "code",
      "metadata": {
        "colab": {
          "base_uri": "https://localhost:8080/"
        },
        "id": "OM7HOcXitmNC",
        "outputId": "24814e6d-8ae1-4219-cfb7-6815d3c3c3dc"
      },
      "source": [
        "print(\"xyyzxyzxzxyy\".count('xyy', 2, 11))\n",
        "print(\"xyyzxyzxzxyy\".count('xyy', 3, 12))"
      ],
      "execution_count": null,
      "outputs": [
        {
          "output_type": "stream",
          "name": "stdout",
          "text": [
            "0\n",
            "1\n"
          ]
        }
      ]
    },
    {
      "cell_type": "code",
      "metadata": {
        "colab": {
          "base_uri": "https://localhost:8080/"
        },
        "id": "202xPW84tmQ-",
        "outputId": "295c116c-34d9-4735-ef26-f3a851aba8f1"
      },
      "source": [
        "\n",
        "print('abcdefcdghcd'.split('cd'))    # SPLİT UYGULAMASI\n",
        "print('abcdefcdghcd'.split('d'))"
      ],
      "execution_count": null,
      "outputs": [
        {
          "output_type": "stream",
          "name": "stdout",
          "text": [
            "['ab', 'ef', 'gh', '']\n",
            "['abc', 'efc', 'ghc', '']\n"
          ]
        }
      ]
    },
    {
      "cell_type": "code",
      "metadata": {
        "colab": {
          "base_uri": "https://localhost:8080/"
        },
        "id": "2q3HVtLCtmVu",
        "outputId": "0dcc4db1-aad1-47f6-fe0c-22a3a318a706"
      },
      "source": [
        "'abcdefcdghcd'.split()"
      ],
      "execution_count": null,
      "outputs": [
        {
          "output_type": "execute_result",
          "data": {
            "text/plain": [
              "['abcdefcdghcd']"
            ]
          },
          "metadata": {},
          "execution_count": 1
        }
      ]
    },
    {
      "cell_type": "code",
      "metadata": {
        "id": "gYXkrx7ltmaU",
        "colab": {
          "base_uri": "https://localhost:8080/"
        },
        "outputId": "d97a9c7c-996a-4185-bec2-fc4b81ec65a1"
      },
      "source": [
        "a = int(input(\"a kenarını giriniz :\"))\n",
        "b = int(input(\"b kenarını giriniz :\"))\n",
        "c = float(a**2 + b**2)**(1/2)\n",
        "print(c)"
      ],
      "execution_count": null,
      "outputs": [
        {
          "output_type": "stream",
          "name": "stdout",
          "text": [
            "a kenarını giriniz :2\n",
            "b kenarını giriniz :1\n",
            "2.23606797749979\n"
          ]
        }
      ]
    },
    {
      "cell_type": "code",
      "metadata": {
        "colab": {
          "base_uri": "https://localhost:8080/"
        },
        "id": "_AKELqVlGEgI",
        "outputId": "534d44e3-e790-4ff7-d3b0-e84abf8e892a"
      },
      "source": [
        "boy = float(input(\"boy giriniz:\"))          # BOY KİLO ENDEKS PROGRAMI\n",
        "kilo = int(input(\"kilo giriniz :\"))\n",
        "endeks = kilo/(boy**2)\n",
        "if endeks < 18.5:\n",
        "  print(\"zayıf\")\n",
        "elif 18.5 < endeks <= 25:\n",
        "  print(\"normal\")\n",
        "elif 25 < endeks <= 30:\n",
        "  print(\"kiolu\")\n",
        "elif endeks >30:\n",
        "  print(\"obez\")"
      ],
      "execution_count": null,
      "outputs": [
        {
          "output_type": "stream",
          "name": "stdout",
          "text": [
            "boy giriniz:1.80\n",
            "kilo giriniz :98\n",
            "obez\n"
          ]
        }
      ]
    },
    {
      "cell_type": "code",
      "metadata": {
        "colab": {
          "base_uri": "https://localhost:8080/",
          "height": 129
        },
        "id": "NYMR7fIkGEjM",
        "outputId": "a008d86c-ece6-4847-b054-d9d43bc3fc55"
      },
      "source": [
        "row = 4\n",
        "for i in range(row,0,-1):\n",
        "  for j in range(0,i)\n",
        "    print(\"*\", end=\" \")\n",
        "  print()\n",
        "  "
      ],
      "execution_count": null,
      "outputs": [
        {
          "output_type": "error",
          "ename": "SyntaxError",
          "evalue": "ignored",
          "traceback": [
            "\u001b[0;36m  File \u001b[0;32m\"<ipython-input-15-047119adc8cc>\"\u001b[0;36m, line \u001b[0;32m3\u001b[0m\n\u001b[0;31m    for j in range(0,i)\u001b[0m\n\u001b[0m                       ^\u001b[0m\n\u001b[0;31mSyntaxError\u001b[0m\u001b[0;31m:\u001b[0m invalid syntax\n"
          ]
        }
      ]
    },
    {
      "cell_type": "code",
      "metadata": {
        "colab": {
          "base_uri": "https://localhost:8080/"
        },
        "id": "VVbaCm8-GDKr",
        "outputId": "223342ac-ac17-44ea-8786-2139a7781108"
      },
      "source": [
        "for k in range(5,0,-1):\n",
        "    for i in range(k):\n",
        "        print(\"*\", end= \" \")\n",
        "    print()\n"
      ],
      "execution_count": null,
      "outputs": [
        {
          "output_type": "stream",
          "name": "stdout",
          "text": [
            "* * * * * \n",
            "* * * * \n",
            "* * * \n",
            "* * \n",
            "* \n"
          ]
        }
      ]
    },
    {
      "cell_type": "code",
      "metadata": {
        "colab": {
          "base_uri": "https://localhost:8080/"
        },
        "id": "tGXqYpnQGDNo",
        "outputId": "b7cfd118-875a-48ca-ddee-67ea205a19ea"
      },
      "source": [
        "numbers = [2, 4, 6, 4, 7, 8, 9, 1, 10]\n",
        "\n",
        "cift_sayilar = []\n",
        "tek_sayilar = []\n",
        "\n",
        "for i in numbers:\n",
        "  if i % 2 == 0:\n",
        "    cift_sayilar.append(i)\n",
        "  elif i % 2 == 1:\n",
        "    tek_sayilar.append(i)\n",
        "\n",
        "print(sorted(set(cift_sayilar))) # 4 sayısı bir daha yazılmasın diye set kullandım\n",
        "print(sorted(set(tek_sayilar)))"
      ],
      "execution_count": null,
      "outputs": [
        {
          "output_type": "stream",
          "name": "stdout",
          "text": [
            "[2, 4, 6, 8, 10]\n",
            "[1, 7, 9]\n"
          ]
        }
      ]
    },
    {
      "cell_type": "code",
      "metadata": {
        "id": "4cOH6pDeGDP6",
        "colab": {
          "base_uri": "https://localhost:8080/"
        },
        "outputId": "495d304f-b23a-4cfd-80d4-b32acf4948e9"
      },
      "source": [
        "basket = ['apple', 'peach', 'blackberry']\n",
        "fruit = '....'\n",
        "\n",
        "if fruit not in basket :\n",
        "    print('I can have a little ')\n",
        "else :\n",
        "    print('I have already ')    "
      ],
      "execution_count": 10,
      "outputs": [
        {
          "output_type": "stream",
          "name": "stdout",
          "text": [
            "I can have a little \n"
          ]
        }
      ]
    },
    {
      "cell_type": "code",
      "metadata": {
        "id": "MHzP1CKjGDSn",
        "colab": {
          "base_uri": "https://localhost:8080/"
        },
        "outputId": "b47ddbe0-e7c8-462c-d2c3-7299d6b4c236"
      },
      "source": [
        "weight = 80\n",
        "if weight > 100:\n",
        "    print(\"That's too heavy!\")\n",
        "elif weight > 75:\n",
        "    print(\"I can lift that!\")\n",
        "else:\n",
        "    print(\"That's too light!\")"
      ],
      "execution_count": 11,
      "outputs": [
        {
          "output_type": "stream",
          "name": "stdout",
          "text": [
            "I can lift that!\n"
          ]
        }
      ]
    },
    {
      "cell_type": "code",
      "metadata": {
        "id": "PUMlZcfmtmdC",
        "colab": {
          "base_uri": "https://localhost:8080/"
        },
        "outputId": "f7984303-d225-45a0-bcc6-0eafffde1ce4"
      },
      "source": [
        "audience = \"baby\"\n",
        "if audience == \"kid\":\n",
        "    print(\"it is free to go to cinema\")\n",
        "elif audience == \"teen\":\n",
        "    print(\"discounted price!\")\n",
        "elif audience == \"adult\":\n",
        "    print(\"normal price\")\n",
        "else:\n",
        "    print(\"No such audience, stay at your home!\")"
      ],
      "execution_count": 13,
      "outputs": [
        {
          "output_type": "stream",
          "name": "stdout",
          "text": [
            "No such audience, stay at your home!\n"
          ]
        }
      ]
    },
    {
      "cell_type": "code",
      "metadata": {
        "id": "K8fLWyap2Xqe"
      },
      "source": [
        "Write a program that satisfies the given conditions below. Define the name of the variable as number.\n",
        "\n",
        "If the number is equal or greater than 10, print : 'The number is equal or greater than 10',\n",
        "If the number is less than 10, print : 'The number is less than 10'.\n",
        "Note that; Suppose the number is 23. number = 23 is pre-defined for you. You don't need to use the input() function or assign another value to variable number.\n",
        "\n",
        "For example:\n",
        "\n",
        "Test\tResult\n",
        "number = 23\n",
        "The number is equal or greater than 10\n"
      ],
      "execution_count": null,
      "outputs": []
    },
    {
      "cell_type": "code",
      "metadata": {
        "colab": {
          "base_uri": "https://localhost:8080/"
        },
        "id": "Bj_DJO3i2XuN",
        "outputId": "ba454f1d-3af8-4250-c9d6-f913b145802f"
      },
      "source": [
        "number = 10\n",
        "if number >= 10:\n",
        "  print(\"The number is equal or greater than 10\")\n",
        "elif number < 10:\n",
        "  print(\"The number is less than 10\")\n"
      ],
      "execution_count": 24,
      "outputs": [
        {
          "output_type": "stream",
          "name": "stdout",
          "text": [
            "The number is equal or greater than 10\n"
          ]
        }
      ]
    },
    {
      "cell_type": "code",
      "metadata": {
        "id": "SGg2LBcn2X1Q"
      },
      "source": [
        "# Let us write a program that asks you to enter your exam score and calculates the range in which your degree is based on your exam score. \n",
        "# Try to run this code on your Jupyter Lab cell if available.\n",
        "\n"
      ],
      "execution_count": null,
      "outputs": []
    },
    {
      "cell_type": "code",
      "metadata": {
        "colab": {
          "base_uri": "https://localhost:8080/"
        },
        "id": "y-bSk0f-2kMR",
        "outputId": "6cd12599-cd61-49a0-bdb3-6395528e8d4f"
      },
      "source": [
        "score = int (input(\"Enter your score : \"))\n",
        "if score >= 90:\n",
        "    if score >= 95:\n",
        "        Score_letter=\"A+\"\n",
        "    else:\n",
        "        Score_letter=\"A\"\n",
        "elif score >= 80:\n",
        "    if score >= 85:\n",
        "        Score_letter=\"B+\"\n",
        "    else:\n",
        "        Score_letter=\"B\"\n",
        "else:\n",
        "    Score_letter=\"below B\"\n",
        "print(\"Your degree : %s\"% Score_letter)"
      ],
      "execution_count": 120,
      "outputs": [
        {
          "output_type": "stream",
          "name": "stdout",
          "text": [
            "Enter your score : 80\n",
            "Your degree : B\n"
          ]
        }
      ]
    },
    {
      "cell_type": "code",
      "metadata": {
        "id": "hZeOcKR5XY5X"
      },
      "source": [
        "score = int (input(\"Enter your score :\"))\n",
        "\n",
        "if score >= 90:\n",
        "    if score >= 95:\n",
        "        Score_letter=\"A+\"\n",
        "    else:\n",
        "        Score_letter=\"A\"\n",
        "elif score >= 80:\n",
        "    if score >= 85:\n",
        "        Score_letter=\"B+\"\n",
        "    else:\n",
        "        Score_letter=\"B\"\n",
        "else:\n",
        "    Score_letter=\"below B\"\n",
        "\n",
        "print (\"Your degree: %s\" % Score_letter)"
      ],
      "execution_count": null,
      "outputs": []
    },
    {
      "cell_type": "code",
      "metadata": {
        "colab": {
          "base_uri": "https://localhost:8080/"
        },
        "id": "xP-zmmkyUdP5",
        "outputId": "8cac7bab-385f-4077-e87b-f7211befd103"
      },
      "source": [
        "my_list = [1,2,3,4,5,6]\n",
        "new_list = []\n",
        "my_list"
      ],
      "execution_count": 112,
      "outputs": [
        {
          "output_type": "execute_result",
          "data": {
            "text/plain": [
              "[1, 2, 3, 4, 5, 6]"
            ]
          },
          "metadata": {},
          "execution_count": 112
        }
      ]
    },
    {
      "cell_type": "code",
      "metadata": {
        "colab": {
          "base_uri": "https://localhost:8080/"
        },
        "id": "vkd0x9yMU41z",
        "outputId": "14addcdd-bb1f-41d8-af72-ca2d1dc6d14a"
      },
      "source": [
        "for x in my_list:                                     # TRADİONAL FOR LOOP \n",
        "    if x % 2 != 0:\n",
        "        new_list.append(x**2)\n",
        "print(new_list)"
      ],
      "execution_count": 113,
      "outputs": [
        {
          "output_type": "stream",
          "name": "stdout",
          "text": [
            "[1, 9, 25]\n"
          ]
        }
      ]
    },
    {
      "cell_type": "code",
      "metadata": {
        "colab": {
          "base_uri": "https://localhost:8080/"
        },
        "id": "lfUcSwdHVzXD",
        "outputId": "2368a8f7-c410-457e-ae6f-d2a977948597"
      },
      "source": [
        "print([x**2 for x in my_list if x % 2 != 0])         # LİST COMPREHENSİON STYLE İMPORTANT FOR WRİTİNG COMMAND SHORTLY"
      ],
      "execution_count": 117,
      "outputs": [
        {
          "output_type": "stream",
          "name": "stdout",
          "text": [
            "[1, 9, 25]\n"
          ]
        }
      ]
    },
    {
      "cell_type": "code",
      "metadata": {
        "colab": {
          "base_uri": "https://localhost:8080/"
        },
        "id": "TgX59mTw2k8y",
        "outputId": "b8fda0eb-bbfa-4a52-ee94-ab793f1045d6"
      },
      "source": [
        "numbers = list(map(int,input(\"enter five numbers :  \").split()))\n",
        "sec_max = sorted(set(numbers))[-2]\n",
        "print(numbers)\n",
        "print(set(numbers))\n",
        "print(sorted(set(numbers)))\n",
        "print(sec_max)"
      ],
      "execution_count": 1,
      "outputs": [
        {
          "output_type": "stream",
          "name": "stdout",
          "text": [
            "enter five numbers :  -3 8 9 -5 8 -9\n",
            "[-3, 8, 9, -5, 8, -9]\n",
            "{8, 9, -9, -5, -3}\n",
            "[-9, -5, -3, 8, 9]\n",
            "8\n"
          ]
        }
      ]
    },
    {
      "cell_type": "code",
      "metadata": {
        "colab": {
          "base_uri": "https://localhost:8080/"
        },
        "id": "KGEg8gb12lB6",
        "outputId": "a4061c9e-ded2-4e8c-8741-eafffab6d0f8"
      },
      "source": [
        "a = int(input(\"enter number :\"))\n",
        "if a > 0:\n",
        "  print(\"positive\")\n",
        "elif a < 0:\n",
        "  print(\"negative\")\n",
        "elif a == 0 :\n",
        "  print(\"number is zero\")\n"
      ],
      "execution_count": 4,
      "outputs": [
        {
          "output_type": "stream",
          "name": "stdout",
          "text": [
            "enter number :0\n",
            "number is zero\n"
          ]
        }
      ]
    },
    {
      "cell_type": "code",
      "metadata": {
        "colab": {
          "base_uri": "https://localhost:8080/"
        },
        "id": "O5cgcDNGyxet",
        "outputId": "77f84f63-411e-4e1b-d655-56f8e9654569"
      },
      "source": [
        "email = \"klmn@clarusway.com\"\n",
        "pswrd = \"d999\"\n",
        "ent_mail = input(\"enter mail : \")\n",
        "ent_pswrd = input(\"enter password :\")\n",
        "\n",
        "if (ent_mail != email and ent_pswrd == pswrd) :\n",
        "  print(\"wrong email address\")\n",
        "elif(ent_mail == email and ent_pswrd != pswrd) :\n",
        "  print(\"wrong password\")\n",
        "elif(ent_mail != email and ent_pswrd != pswrd) :\n",
        "  print(\"wrong email and password\")\n",
        "else:\n",
        "  print(\"login successful\")"
      ],
      "execution_count": 7,
      "outputs": [
        {
          "output_type": "stream",
          "name": "stdout",
          "text": [
            "enter mail : klmn@clarusway.com\n",
            "enter password :d999\n",
            "login successful\n"
          ]
        }
      ]
    },
    {
      "cell_type": "code",
      "metadata": {
        "colab": {
          "base_uri": "https://localhost:8080/"
        },
        "id": "9hp6Hnrp2X44",
        "outputId": "ba521815-2be7-4814-e512-7abc0bf09042"
      },
      "source": [
        "audience_group = 'kid', 'teen', 'adult'\n",
        "audience = \"baby\"\n",
        "if audience in audience_group :\n",
        "    if audience == \"kid\":\n",
        "        print(\"it is free to go to cinema\")\n",
        "    elif audience == \"teen\":\n",
        "        print(\"discounted price!\")\n",
        "    else: # audience == \"adult\":\n",
        "        print(\"normal price\")\n",
        "else:\n",
        "    print(\"No such audience, stay at your home!\")"
      ],
      "execution_count": 29,
      "outputs": [
        {
          "output_type": "stream",
          "name": "stdout",
          "text": [
            "No such audience, stay at your home!\n"
          ]
        }
      ]
    },
    {
      "cell_type": "code",
      "metadata": {
        "id": "AtSXfBoB2X8P"
      },
      "source": [
        "score = int (input(\"Enter your score :\"))\n",
        "if score >= 90:\n",
        "    if score >= 95:\n",
        "        Score_letter=\"A+\"\n",
        "    else:\n",
        "        Score_letter=\"A\"\n",
        "elif score >= 80:\n",
        "    if score >= 85:\n",
        "        Score_letter=\"B+\"\n",
        "    else:\n",
        "        Score_letter=\"B\"\n",
        "else:\n",
        "    Score_letter=\"below B\"\n",
        "\n",
        "print (\"Your degree: %s\" % Score_letter)"
      ],
      "execution_count": null,
      "outputs": []
    },
    {
      "cell_type": "code",
      "metadata": {
        "colab": {
          "base_uri": "https://localhost:8080/"
        },
        "id": "fjw7ZnZ9GxGV",
        "outputId": "2b3d69d2-d36d-4894-b891-2a02e5d4a318"
      },
      "source": [
        "a = set(\"dolphin\")\n",
        "b= set(\"fhilps\")\n",
        "a-b"
      ],
      "execution_count": 34,
      "outputs": [
        {
          "output_type": "execute_result",
          "data": {
            "text/plain": [
              "{'d', 'n', 'o'}"
            ]
          },
          "metadata": {},
          "execution_count": 34
        }
      ]
    },
    {
      "cell_type": "code",
      "metadata": {
        "id": "_A7LHuEfH1Hi"
      },
      "source": [
        ""
      ],
      "execution_count": null,
      "outputs": []
    },
    {
      "cell_type": "code",
      "metadata": {
        "colab": {
          "base_uri": "https://localhost:8080/"
        },
        "id": "oc7qqt5XJ6Ku",
        "outputId": "4e30fe34-c77d-41f9-a62f-f82dc418b2c3"
      },
      "source": [
        "bool(set())"
      ],
      "execution_count": 35,
      "outputs": [
        {
          "output_type": "execute_result",
          "data": {
            "text/plain": [
              "False"
            ]
          },
          "metadata": {},
          "execution_count": 35
        }
      ]
    },
    {
      "cell_type": "code",
      "metadata": {
        "colab": {
          "base_uri": "https://localhost:8080/"
        },
        "id": "tgw-OTCzH1KV",
        "outputId": "4b7765eb-4beb-4b1d-c2dd-5925b9154c90"
      },
      "source": [
        "bool(a-b)"
      ],
      "execution_count": 36,
      "outputs": [
        {
          "output_type": "execute_result",
          "data": {
            "text/plain": [
              "True"
            ]
          },
          "metadata": {},
          "execution_count": 36
        }
      ]
    },
    {
      "cell_type": "code",
      "metadata": {
        "colab": {
          "base_uri": "https://localhost:8080/"
        },
        "id": "Hu4qxJW7KVEO",
        "outputId": "75d32b1e-4cd5-453f-8c15-887928349ed0"
      },
      "source": [
        " a | b "
      ],
      "execution_count": 37,
      "outputs": [
        {
          "output_type": "execute_result",
          "data": {
            "text/plain": [
              "{'d', 'f', 'h', 'i', 'l', 'n', 'o', 'p', 's'}"
            ]
          },
          "metadata": {},
          "execution_count": 37
        }
      ]
    },
    {
      "cell_type": "code",
      "metadata": {
        "colab": {
          "base_uri": "https://localhost:8080/"
        },
        "id": "RArtrLfGH1Ne",
        "outputId": "e8907d22-c8fb-45e7-df85-fb850ee11f8a"
      },
      "source": [
        " a | b ==b | a"
      ],
      "execution_count": 38,
      "outputs": [
        {
          "output_type": "execute_result",
          "data": {
            "text/plain": [
              "True"
            ]
          },
          "metadata": {},
          "execution_count": 38
        }
      ]
    },
    {
      "cell_type": "code",
      "metadata": {
        "colab": {
          "base_uri": "https://localhost:8080/"
        },
        "id": "F0FKk0--H1Sc",
        "outputId": "cf7cd16c-17f8-4d94-b60e-6d0d900f0ce4"
      },
      "source": [
        "a & b"
      ],
      "execution_count": 39,
      "outputs": [
        {
          "output_type": "execute_result",
          "data": {
            "text/plain": [
              "{'h', 'i', 'l', 'p'}"
            ]
          },
          "metadata": {},
          "execution_count": 39
        }
      ]
    },
    {
      "cell_type": "code",
      "metadata": {
        "colab": {
          "base_uri": "https://localhost:8080/"
        },
        "id": "WDwlFxGrGxJd",
        "outputId": "c8995160-826b-4d5d-bf5b-b087e320516c"
      },
      "source": [
        "date = \"11/04/2021\"\n",
        "set(date)"
      ],
      "execution_count": 46,
      "outputs": [
        {
          "output_type": "execute_result",
          "data": {
            "text/plain": [
              "{'/', '0', '1', '2', '4'}"
            ]
          },
          "metadata": {},
          "execution_count": 46
        }
      ]
    },
    {
      "cell_type": "code",
      "metadata": {
        "colab": {
          "base_uri": "https://localhost:8080/"
        },
        "id": "4wKey5J-GxMp",
        "outputId": "7c8c5923-2ba7-43b9-e6b7-3783698d4766"
      },
      "source": [
        "{date}"
      ],
      "execution_count": 42,
      "outputs": [
        {
          "output_type": "execute_result",
          "data": {
            "text/plain": [
              "{'11/04/2021'}"
            ]
          },
          "metadata": {},
          "execution_count": 42
        }
      ]
    },
    {
      "cell_type": "code",
      "metadata": {
        "colab": {
          "base_uri": "https://localhost:8080/"
        },
        "id": "kQRH2pDsGxPg",
        "outputId": "fe22d5b7-c33c-4eac-bc5b-d6251708d490"
      },
      "source": [
        "list(date)"
      ],
      "execution_count": 43,
      "outputs": [
        {
          "output_type": "execute_result",
          "data": {
            "text/plain": [
              "['1', '1', '/', '0', '4', '/', '2', '0', '2', '1']"
            ]
          },
          "metadata": {},
          "execution_count": 43
        }
      ]
    },
    {
      "cell_type": "code",
      "metadata": {
        "id": "CcjFy_JKM7fV"
      },
      "source": [
        "capt_USA = set(\"Washington\")\n",
        "capt_NewZeland = set(\"Wellington\")"
      ],
      "execution_count": 51,
      "outputs": []
    },
    {
      "cell_type": "code",
      "metadata": {
        "colab": {
          "base_uri": "https://localhost:8080/"
        },
        "id": "Wmqhe35ANUFC",
        "outputId": "5b218de3-e628-489f-e114-8c050da604e6"
      },
      "source": [
        "capt_USA - capt_NewZeland"
      ],
      "execution_count": 52,
      "outputs": [
        {
          "output_type": "execute_result",
          "data": {
            "text/plain": [
              "{'a', 'h', 's'}"
            ]
          },
          "metadata": {},
          "execution_count": 52
        }
      ]
    },
    {
      "cell_type": "code",
      "metadata": {
        "colab": {
          "base_uri": "https://localhost:8080/"
        },
        "id": "1yVIDzoGNUBs",
        "outputId": "4e23a5e3-a3fe-4282-da54-0d8c9a94d82f"
      },
      "source": [
        "capt_NewZeland - capt_USA"
      ],
      "execution_count": 53,
      "outputs": [
        {
          "output_type": "execute_result",
          "data": {
            "text/plain": [
              "{'e', 'l'}"
            ]
          },
          "metadata": {},
          "execution_count": 53
        }
      ]
    },
    {
      "cell_type": "code",
      "metadata": {
        "colab": {
          "base_uri": "https://localhost:8080/"
        },
        "id": "njSgkXjdNf0C",
        "outputId": "2912b0ef-89d5-4305-d584-5bf22b9cdb5e"
      },
      "source": [
        "capt_USA & capt_NewZeland"
      ],
      "execution_count": 54,
      "outputs": [
        {
          "output_type": "execute_result",
          "data": {
            "text/plain": [
              "{'W', 'g', 'i', 'n', 'o', 't'}"
            ]
          },
          "metadata": {},
          "execution_count": 54
        }
      ]
    },
    {
      "cell_type": "code",
      "metadata": {
        "colab": {
          "base_uri": "https://localhost:8080/"
        },
        "id": "Ys8jy_rjNfxU",
        "outputId": "9b76161e-7572-4764-babc-39cdc052c26e"
      },
      "source": [
        "capt_USA | capt_NewZeland"
      ],
      "execution_count": 55,
      "outputs": [
        {
          "output_type": "execute_result",
          "data": {
            "text/plain": [
              "{'W', 'a', 'e', 'g', 'h', 'i', 'l', 'n', 'o', 's', 't'}"
            ]
          },
          "metadata": {},
          "execution_count": 55
        }
      ]
    },
    {
      "cell_type": "code",
      "metadata": {
        "colab": {
          "base_uri": "https://localhost:8080/"
        },
        "id": "-ttCfzWlNfuS",
        "outputId": "6a352d49-974d-425d-cfe0-0f1e5ec3c626"
      },
      "source": [
        "given_list  = [1,2,3,3,3,3,4,4,5,6,5]\n",
        "set(given_list)"
      ],
      "execution_count": 56,
      "outputs": [
        {
          "output_type": "execute_result",
          "data": {
            "text/plain": [
              "{1, 2, 3, 4, 5, 6}"
            ]
          },
          "metadata": {},
          "execution_count": 56
        }
      ]
    },
    {
      "cell_type": "code",
      "metadata": {
        "colab": {
          "base_uri": "https://localhost:8080/"
        },
        "id": "tuJpg8KXNfrH",
        "outputId": "afd3472a-dbdc-4523-e957-5ee201d9f901"
      },
      "source": [
        "sayılar = [1,2,3,4,5]\n",
        "print(sayılar[1])"
      ],
      "execution_count": 58,
      "outputs": [
        {
          "output_type": "stream",
          "name": "stdout",
          "text": [
            "2\n"
          ]
        }
      ]
    },
    {
      "cell_type": "code",
      "metadata": {
        "id": "vRDI1pgJGxS1"
      },
      "source": [
        "a = 3\n",
        "b = 0"
      ],
      "execution_count": 59,
      "outputs": []
    },
    {
      "cell_type": "code",
      "metadata": {
        "colab": {
          "base_uri": "https://localhost:8080/"
        },
        "id": "BXnbNB3cGxWN",
        "outputId": "ea8f8a4a-8ebf-4ea0-d024-a0b7ead13a63"
      },
      "source": [
        "b > a"
      ],
      "execution_count": 60,
      "outputs": [
        {
          "output_type": "execute_result",
          "data": {
            "text/plain": [
              "False"
            ]
          },
          "metadata": {},
          "execution_count": 60
        }
      ]
    },
    {
      "cell_type": "code",
      "metadata": {
        "colab": {
          "base_uri": "https://localhost:8080/"
        },
        "id": "wfecw_UWVe1s",
        "outputId": "f6b164c4-5744-4a68-e12a-661e284c2560"
      },
      "source": [
        "if \"0\" :\n",
        "    print(\"hello world\")\n",
        "print(\"print me in all cases\")"
      ],
      "execution_count": 63,
      "outputs": [
        {
          "output_type": "stream",
          "name": "stdout",
          "text": [
            "hello world\n",
            "print me in all cases\n"
          ]
        }
      ]
    },
    {
      "cell_type": "code",
      "metadata": {
        "colab": {
          "base_uri": "https://localhost:8080/"
        },
        "id": "D-OUkvmkVe4x",
        "outputId": "06254fef-54a0-475c-9b56-c2e1060fae13"
      },
      "source": [
        "bool(\"0\")"
      ],
      "execution_count": 62,
      "outputs": [
        {
          "output_type": "execute_result",
          "data": {
            "text/plain": [
              "True"
            ]
          },
          "metadata": {},
          "execution_count": 62
        }
      ]
    },
    {
      "cell_type": "code",
      "metadata": {
        "colab": {
          "base_uri": "https://localhost:8080/"
        },
        "id": "Okly2wZkVe7v",
        "outputId": "63c81781-2fb8-47d9-be73-c69759d52a51"
      },
      "source": [
        "if \"0\" and \"\" :\n",
        "    print(\"hello world\")\n",
        "else:\n",
        "    print(\"print me in all cases\")"
      ],
      "execution_count": 67,
      "outputs": [
        {
          "output_type": "stream",
          "name": "stdout",
          "text": [
            "print me in all cases\n"
          ]
        }
      ]
    },
    {
      "cell_type": "code",
      "metadata": {
        "colab": {
          "base_uri": "https://localhost:8080/"
        },
        "id": "P-wGCL_sVe-0",
        "outputId": "715a4fdb-a229-4993-c893-34994f641da9"
      },
      "source": [
        "if 0 or \"False\" and None :\n",
        "   print(\"hello world\")\n",
        "else:\n",
        "    print(\"print me in all cases\")"
      ],
      "execution_count": 68,
      "outputs": [
        {
          "output_type": "stream",
          "name": "stdout",
          "text": [
            "print me in all cases\n"
          ]
        }
      ]
    },
    {
      "cell_type": "code",
      "metadata": {
        "colab": {
          "base_uri": "https://localhost:8080/"
        },
        "id": "l5K-YqDQVfBn",
        "outputId": "2e3ffeea-a101-4724-efdf-a857153b42a0"
      },
      "source": [
        "if [\"\"] :\n",
        "  print(\"hello\")"
      ],
      "execution_count": 71,
      "outputs": [
        {
          "output_type": "stream",
          "name": "stdout",
          "text": [
            "hello\n"
          ]
        }
      ]
    },
    {
      "cell_type": "code",
      "metadata": {
        "id": "7rsgJZi6VfEe"
      },
      "source": [
        "minced = True\n",
        "bread = True\n",
        "#green\n",
        "lettuce = True\n",
        "onion  = True\n",
        "grocer = True"
      ],
      "execution_count": 72,
      "outputs": []
    },
    {
      "cell_type": "code",
      "metadata": {
        "colab": {
          "base_uri": "https://localhost:8080/"
        },
        "id": "-285XjkBVfHT",
        "outputId": "5e868a26-b09e-467e-9548-fe8cd8aa7cdf"
      },
      "source": [
        "hamburger = (minced and grocer and bread) and (lettuce or onion)\n",
        "if hamburger :\n",
        "  print(\"Bon Appetit\")"
      ],
      "execution_count": 74,
      "outputs": [
        {
          "output_type": "stream",
          "name": "stdout",
          "text": [
            "Bon Appetit\n"
          ]
        }
      ]
    },
    {
      "cell_type": "code",
      "metadata": {
        "colab": {
          "base_uri": "https://localhost:8080/"
        },
        "id": "7lhTE-boZIpe",
        "outputId": "95cddefa-7a44-4c52-ebd1-07cac4103351"
      },
      "source": [
        "1==1.0"
      ],
      "execution_count": 75,
      "outputs": [
        {
          "output_type": "execute_result",
          "data": {
            "text/plain": [
              "True"
            ]
          },
          "metadata": {},
          "execution_count": 75
        }
      ]
    },
    {
      "cell_type": "code",
      "metadata": {
        "colab": {
          "base_uri": "https://localhost:8080/"
        },
        "id": "GEL6FumeZ1nG",
        "outputId": "8105523f-f4df-4068-9275-27afdcbb7a54"
      },
      "source": [
        "3>3"
      ],
      "execution_count": 76,
      "outputs": [
        {
          "output_type": "execute_result",
          "data": {
            "text/plain": [
              "False"
            ]
          },
          "metadata": {},
          "execution_count": 76
        }
      ]
    },
    {
      "cell_type": "code",
      "metadata": {
        "colab": {
          "base_uri": "https://localhost:8080/"
        },
        "id": "SEnZYx9zZ1qE",
        "outputId": "6d917e27-bb6b-438c-ac32-e6ca80e1c82d"
      },
      "source": [
        "3>=3"
      ],
      "execution_count": 77,
      "outputs": [
        {
          "output_type": "execute_result",
          "data": {
            "text/plain": [
              "True"
            ]
          },
          "metadata": {},
          "execution_count": 77
        }
      ]
    },
    {
      "cell_type": "code",
      "metadata": {
        "colab": {
          "base_uri": "https://localhost:8080/"
        },
        "id": "6iNMrlgvZIsZ",
        "outputId": "20ffd0f4-48a4-4c4d-aa59-80eaa94b6ffa"
      },
      "source": [
        "\"ali\" == \"ali\""
      ],
      "execution_count": 78,
      "outputs": [
        {
          "output_type": "execute_result",
          "data": {
            "text/plain": [
              "True"
            ]
          },
          "metadata": {},
          "execution_count": 78
        }
      ]
    },
    {
      "cell_type": "code",
      "metadata": {
        "colab": {
          "base_uri": "https://localhost:8080/"
        },
        "id": "PiaILeVHZIvS",
        "outputId": "c91bfbcb-4234-4edf-bd53-8426d4f87eea"
      },
      "source": [
        "\"ali\" == \"Ali\""
      ],
      "execution_count": 79,
      "outputs": [
        {
          "output_type": "execute_result",
          "data": {
            "text/plain": [
              "False"
            ]
          },
          "metadata": {},
          "execution_count": 79
        }
      ]
    },
    {
      "cell_type": "code",
      "metadata": {
        "colab": {
          "base_uri": "https://localhost:8080/"
        },
        "id": "WHPUM774ZIyv",
        "outputId": "077770f5-0231-4e69-945c-386ee5b56ddb"
      },
      "source": [
        "\"ali\" != \"Ali\""
      ],
      "execution_count": 80,
      "outputs": [
        {
          "output_type": "execute_result",
          "data": {
            "text/plain": [
              "True"
            ]
          },
          "metadata": {},
          "execution_count": 80
        }
      ]
    },
    {
      "cell_type": "code",
      "metadata": {
        "colab": {
          "base_uri": "https://localhost:8080/"
        },
        "id": "Ph9V_YmeZJCT",
        "outputId": "5f9bfe08-4ace-4af3-ee12-214a59aee7e1"
      },
      "source": [
        "12<12.1"
      ],
      "execution_count": 81,
      "outputs": [
        {
          "output_type": "execute_result",
          "data": {
            "text/plain": [
              "True"
            ]
          },
          "metadata": {},
          "execution_count": 81
        }
      ]
    },
    {
      "cell_type": "code",
      "metadata": {
        "colab": {
          "base_uri": "https://localhost:8080/"
        },
        "id": "u7dtaiwwZJFx",
        "outputId": "8a5fdf4c-7eac-4eda-9ea4-9fb3d8356d1e"
      },
      "source": [
        "set1 = set(\"ELEVEN PLUS TWO\")\n",
        "set2 = set(\"TWELWE PLUS ONE\")\n",
        "\n",
        "if set1 == set2:\n",
        "    print(\"we are the same!\")\n",
        "else: \n",
        "    print(1)"
      ],
      "execution_count": 94,
      "outputs": [
        {
          "output_type": "stream",
          "name": "stdout",
          "text": [
            "1\n"
          ]
        }
      ]
    },
    {
      "cell_type": "code",
      "metadata": {
        "colab": {
          "base_uri": "https://localhost:8080/"
        },
        "id": "brMf-hneZJIy",
        "outputId": "ed9a5841-7914-4d4d-8a4f-5b8568dcd07d"
      },
      "source": [
        "type(input(\"bir şey yaz  : \"))"
      ],
      "execution_count": 4,
      "outputs": [
        {
          "name": "stdout",
          "output_type": "stream",
          "text": [
            "bir şey yaz  : bir şey\n"
          ]
        },
        {
          "output_type": "execute_result",
          "data": {
            "text/plain": [
              "str"
            ]
          },
          "metadata": {},
          "execution_count": 4
        }
      ]
    },
    {
      "cell_type": "code",
      "metadata": {
        "colab": {
          "base_uri": "https://localhost:8080/"
        },
        "id": "xnQvtmzcc7Qo",
        "outputId": "7e14f25c-482c-4808-f0d0-3758655dadea"
      },
      "source": [
        "Yes = True\n",
        "No = False\n",
        "bool(input(\"Please enter a word (Yes or No) : \"))\n",
        "print(\"you entered\", a)"
      ],
      "execution_count": 17,
      "outputs": [
        {
          "output_type": "stream",
          "name": "stdout",
          "text": [
            "Please enter a word (Yes or No) : No\n",
            "you entered True\n"
          ]
        }
      ]
    },
    {
      "cell_type": "code",
      "metadata": {
        "colab": {
          "base_uri": "https://localhost:8080/"
        },
        "id": "YV1yC9pJouDd",
        "outputId": "98ba9973-0f4f-4a81-92b8-4e668cdee747"
      },
      "source": [
        "a = int(input(\"bir sayı girin  : \"))\n",
        "if (a%2) == 0:\n",
        "  print(a, \"is even\")\n",
        "else:\n",
        "  print(a,\"is odd\" )"
      ],
      "execution_count": 22,
      "outputs": [
        {
          "output_type": "stream",
          "name": "stdout",
          "text": [
            "bir sayı girin  : 25\n",
            "25 is odd\n"
          ]
        }
      ]
    },
    {
      "cell_type": "code",
      "metadata": {
        "colab": {
          "base_uri": "https://localhost:8080/"
        },
        "id": "CKRj5e_IqYck",
        "outputId": "58343b9a-28e5-48fb-e507-067c45a647be"
      },
      "source": [
        "num = float(input(\"Enter positive or negative number : \"))\n",
        "if num >= 0:\n",
        "  print(\"You entered positive number\")\n",
        "else :\n",
        "  print(\"you entered negative number\")"
      ],
      "execution_count": 27,
      "outputs": [
        {
          "output_type": "stream",
          "name": "stdout",
          "text": [
            "Enter positive or negative number : 0\n",
            "You entered positive number\n"
          ]
        }
      ]
    },
    {
      "cell_type": "code",
      "metadata": {
        "colab": {
          "base_uri": "https://localhost:8080/"
        },
        "id": "YdsmisyKq_6-",
        "outputId": "f1ab2684-0450-4f90-b92b-318e06e59ed3"
      },
      "source": [
        "float(\"-33\")"
      ],
      "execution_count": 24,
      "outputs": [
        {
          "output_type": "execute_result",
          "data": {
            "text/plain": [
              "-33.0"
            ]
          },
          "metadata": {},
          "execution_count": 24
        }
      ]
    },
    {
      "cell_type": "code",
      "metadata": {
        "colab": {
          "base_uri": "https://localhost:8080/"
        },
        "id": "VOoVZmaSq_wN",
        "outputId": "d5e3690f-d0b8-47f7-8dc3-0e766a679f82"
      },
      "source": [
        "num1 = float(input(\"Enter first number  : \"))\n",
        "num2 = float(input(\"Enter second number : \"))\n",
        "if num1 > num2:\n",
        "    print(\"The Large number is\", num1)\n",
        "else:\n",
        "    print(\"The Large number is\", num2)"
      ],
      "execution_count": 32,
      "outputs": [
        {
          "output_type": "stream",
          "name": "stdout",
          "text": [
            "Enter first number  : 45\n",
            "Enter second number : 78\n",
            "The Large number is 78\n"
          ]
        }
      ]
    },
    {
      "cell_type": "code",
      "metadata": {
        "colab": {
          "base_uri": "https://localhost:8080/"
        },
        "id": "yYZufRDbc7To",
        "outputId": "4e21be52-7bd0-4bb7-bc0f-67537383c692"
      },
      "source": [
        "convert = input(\"Please enter a word (Yes or No) : \").title().strip() == \"Yes\"\n"
      ],
      "execution_count": 11,
      "outputs": [
        {
          "name": "stdout",
          "output_type": "stream",
          "text": [
            "Please enter a word (Yes or No) : No\n"
          ]
        }
      ]
    },
    {
      "cell_type": "code",
      "metadata": {
        "colab": {
          "base_uri": "https://localhost:8080/"
        },
        "id": "WvmdOkDpc7Wk",
        "outputId": "a75b17cd-f47b-46c7-8947-88450bee04cb"
      },
      "source": [
        "convert"
      ],
      "execution_count": 12,
      "outputs": [
        {
          "output_type": "execute_result",
          "data": {
            "text/plain": [
              "False"
            ]
          },
          "metadata": {},
          "execution_count": 12
        }
      ]
    },
    {
      "cell_type": "code",
      "metadata": {
        "colab": {
          "base_uri": "https://localhost:8080/"
        },
        "id": "2zD3aVPQc7Z3",
        "outputId": "f6c06d4e-eb89-4e22-d48c-2af8767f2669"
      },
      "source": [
        "print(\"You entered\", convert)"
      ],
      "execution_count": 13,
      "outputs": [
        {
          "output_type": "stream",
          "name": "stdout",
          "text": [
            "You entered False\n"
          ]
        }
      ]
    },
    {
      "cell_type": "code",
      "metadata": {
        "colab": {
          "base_uri": "https://localhost:8080/"
        },
        "id": "_3KvnWRsSBLt",
        "outputId": "be535fea-6631-4c5d-91c0-848117dd6495"
      },
      "source": [
        "(1,1.0,'ad')"
      ],
      "execution_count": 16,
      "outputs": [
        {
          "output_type": "execute_result",
          "data": {
            "text/plain": [
              "(1, 1.0, 'ad')"
            ]
          },
          "metadata": {},
          "execution_count": 16
        }
      ]
    }
  ]
}